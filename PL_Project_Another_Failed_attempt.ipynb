{
 "cells": [
  {
   "cell_type": "code",
   "execution_count": 2,
   "id": "40435d2c",
   "metadata": {},
   "outputs": [
    {
     "data": {
      "text/html": [
       "<div>\n",
       "<style scoped>\n",
       "    .dataframe tbody tr th:only-of-type {\n",
       "        vertical-align: middle;\n",
       "    }\n",
       "\n",
       "    .dataframe tbody tr th {\n",
       "        vertical-align: top;\n",
       "    }\n",
       "\n",
       "    .dataframe thead th {\n",
       "        text-align: right;\n",
       "    }\n",
       "</style>\n",
       "<table border=\"1\" class=\"dataframe\">\n",
       "  <thead>\n",
       "    <tr style=\"text-align: right;\">\n",
       "      <th></th>\n",
       "      <th>Season_End_Year</th>\n",
       "      <th>Wk</th>\n",
       "      <th>Date</th>\n",
       "      <th>Home</th>\n",
       "      <th>HomeGoals</th>\n",
       "      <th>AwayGoals</th>\n",
       "      <th>Away</th>\n",
       "      <th>FTR</th>\n",
       "    </tr>\n",
       "  </thead>\n",
       "  <tbody>\n",
       "    <tr>\n",
       "      <th>0</th>\n",
       "      <td>1993</td>\n",
       "      <td>1</td>\n",
       "      <td>1992-08-15</td>\n",
       "      <td>Coventry City</td>\n",
       "      <td>2</td>\n",
       "      <td>1</td>\n",
       "      <td>Middlesbrough</td>\n",
       "      <td>H</td>\n",
       "    </tr>\n",
       "    <tr>\n",
       "      <th>1</th>\n",
       "      <td>1993</td>\n",
       "      <td>1</td>\n",
       "      <td>1992-08-15</td>\n",
       "      <td>Leeds United</td>\n",
       "      <td>2</td>\n",
       "      <td>1</td>\n",
       "      <td>Wimbledon</td>\n",
       "      <td>H</td>\n",
       "    </tr>\n",
       "    <tr>\n",
       "      <th>2</th>\n",
       "      <td>1993</td>\n",
       "      <td>1</td>\n",
       "      <td>1992-08-15</td>\n",
       "      <td>Sheffield Utd</td>\n",
       "      <td>2</td>\n",
       "      <td>1</td>\n",
       "      <td>Manchester Utd</td>\n",
       "      <td>H</td>\n",
       "    </tr>\n",
       "    <tr>\n",
       "      <th>3</th>\n",
       "      <td>1993</td>\n",
       "      <td>1</td>\n",
       "      <td>1992-08-15</td>\n",
       "      <td>Crystal Palace</td>\n",
       "      <td>3</td>\n",
       "      <td>3</td>\n",
       "      <td>Blackburn</td>\n",
       "      <td>D</td>\n",
       "    </tr>\n",
       "    <tr>\n",
       "      <th>4</th>\n",
       "      <td>1993</td>\n",
       "      <td>1</td>\n",
       "      <td>1992-08-15</td>\n",
       "      <td>Arsenal</td>\n",
       "      <td>2</td>\n",
       "      <td>4</td>\n",
       "      <td>Norwich City</td>\n",
       "      <td>A</td>\n",
       "    </tr>\n",
       "  </tbody>\n",
       "</table>\n",
       "</div>"
      ],
      "text/plain": [
       "   Season_End_Year  Wk        Date            Home  HomeGoals  AwayGoals  \\\n",
       "0             1993   1  1992-08-15   Coventry City          2          1   \n",
       "1             1993   1  1992-08-15    Leeds United          2          1   \n",
       "2             1993   1  1992-08-15   Sheffield Utd          2          1   \n",
       "3             1993   1  1992-08-15  Crystal Palace          3          3   \n",
       "4             1993   1  1992-08-15         Arsenal          2          4   \n",
       "\n",
       "             Away FTR  \n",
       "0   Middlesbrough   H  \n",
       "1       Wimbledon   H  \n",
       "2  Manchester Utd   H  \n",
       "3       Blackburn   D  \n",
       "4    Norwich City   A  "
      ]
     },
     "execution_count": 2,
     "metadata": {},
     "output_type": "execute_result"
    }
   ],
   "source": [
    "import pandas as pd\n",
    "\n",
    "# Load the dataset into a DataFrame\n",
    "df = pd.read_csv('premier-league-matches.csv')\n",
    "\n",
    "# Display the first few rows of the DataFrame\n",
    "df.head()"
   ]
  },
  {
   "cell_type": "code",
   "execution_count": 3,
   "id": "b459b3fd",
   "metadata": {},
   "outputs": [
    {
     "name": "stdout",
     "output_type": "stream",
     "text": [
      "<class 'pandas.core.frame.DataFrame'>\n",
      "RangeIndex: 12026 entries, 0 to 12025\n",
      "Data columns (total 8 columns):\n",
      " #   Column           Non-Null Count  Dtype \n",
      "---  ------           --------------  ----- \n",
      " 0   Season_End_Year  12026 non-null  int64 \n",
      " 1   Wk               12026 non-null  int64 \n",
      " 2   Date             12026 non-null  object\n",
      " 3   Home             12026 non-null  object\n",
      " 4   HomeGoals        12026 non-null  int64 \n",
      " 5   AwayGoals        12026 non-null  int64 \n",
      " 6   Away             12026 non-null  object\n",
      " 7   FTR              12026 non-null  object\n",
      "dtypes: int64(4), object(4)\n",
      "memory usage: 751.8+ KB\n"
     ]
    }
   ],
   "source": [
    "df.info()"
   ]
  },
  {
   "cell_type": "code",
   "execution_count": 4,
   "id": "0cd0bf25",
   "metadata": {},
   "outputs": [],
   "source": [
    "df_copy = df.copy()"
   ]
  },
  {
   "cell_type": "code",
   "execution_count": 5,
   "id": "6f1baaf8",
   "metadata": {},
   "outputs": [
    {
     "name": "stdout",
     "output_type": "stream",
     "text": [
      "             Home  HomeGoals  AwayGoals            Away FTR\n",
      "0   Coventry City          2          1   Middlesbrough   H\n",
      "1    Leeds United          2          1       Wimbledon   H\n",
      "2   Sheffield Utd          2          1  Manchester Utd   H\n",
      "3  Crystal Palace          3          3       Blackburn   D\n",
      "4         Arsenal          2          4    Norwich City   A\n"
     ]
    }
   ],
   "source": [
    "irrelevant_columns = ['Season_End_Year', 'Wk', 'Date']\n",
    "\n",
    "# Remove irrelevant columns from the copied dataset\n",
    "df_copy.drop(columns=irrelevant_columns, inplace=True)\n",
    "\n",
    "\n",
    "print(df_copy.head())"
   ]
  },
  {
   "cell_type": "code",
   "execution_count": 6,
   "id": "23b928ba",
   "metadata": {},
   "outputs": [
    {
     "name": "stdout",
     "output_type": "stream",
     "text": [
      "   HomeGoals  AwayGoals FTR  Middlesbrough_home  Middlesbrough_away  \\\n",
      "0          2          1   H                   0                   1   \n",
      "1          2          1   H                   0                   0   \n",
      "2          2          1   H                   0                   0   \n",
      "3          3          3   D                   0                   0   \n",
      "4          2          4   A                   0                   0   \n",
      "\n",
      "   Wimbledon_home  Wimbledon_away  Manchester Utd_home  Manchester Utd_away  \\\n",
      "0               0               0                    0                    0   \n",
      "1               0               1                    0                    0   \n",
      "2               0               0                    0                    1   \n",
      "3               0               0                    0                    0   \n",
      "4               0               0                    0                    0   \n",
      "\n",
      "   Blackburn_home  ...  Cardiff City_home  Cardiff City_away  \\\n",
      "0               0  ...                  0                  0   \n",
      "1               0  ...                  0                  0   \n",
      "2               0  ...                  0                  0   \n",
      "3               0  ...                  0                  0   \n",
      "4               0  ...                  0                  0   \n",
      "\n",
      "   Bournemouth_home  Bournemouth_away  Huddersfield_home  Huddersfield_away  \\\n",
      "0                 0                 0                  0                  0   \n",
      "1                 0                 0                  0                  0   \n",
      "2                 0                 0                  0                  0   \n",
      "3                 0                 0                  0                  0   \n",
      "4                 0                 0                  0                  0   \n",
      "\n",
      "   Brighton_home  Brighton_away  Brentford_home  Brentford_away  \n",
      "0              0              0               0               0  \n",
      "1              0              0               0               0  \n",
      "2              0              0               0               0  \n",
      "3              0              0               0               0  \n",
      "4              0              0               0               0  \n",
      "\n",
      "[5 rows x 103 columns]\n"
     ]
    }
   ],
   "source": [
    "import pandas as pd\n",
    "\n",
    "# List of team names\n",
    "team_names = ['Middlesbrough', 'Wimbledon', 'Manchester Utd', 'Blackburn', 'Norwich City',\n",
    "              'Aston Villa', 'Sheffield Weds', 'Tottenham', 'Oldham Athletic', 'Liverpool',\n",
    "              'QPR', 'Arsenal', 'Ipswich Town', 'Coventry City', 'Sheffield Utd',\n",
    "              'Leeds United', 'Crystal Palace', 'Manchester City', 'Chelsea', 'Southampton',\n",
    "              'Everton', \"Nott'ham Forest\", 'Swindon Town', 'West Ham', 'Newcastle Utd',\n",
    "              'Leicester City', 'Bolton', 'Derby County', 'Sunderland', 'Barnsley',\n",
    "              'Charlton Ath', 'Bradford City', 'Watford', 'Fulham', 'West Brom',\n",
    "              'Birmingham City', 'Wolves', 'Portsmouth', 'Wigan Athletic', 'Reading',\n",
    "              'Stoke City', 'Hull City', 'Burnley', 'Blackpool', 'Swansea City',\n",
    "              'Cardiff City', 'Bournemouth', 'Huddersfield', 'Brighton', 'Brentford']\n",
    "\n",
    "# Create a list to store dummy DataFrames\n",
    "dummy_dfs = []\n",
    "\n",
    "# Create a DataFrame for each team indicating whether they are playing at home or away\n",
    "for team in team_names:\n",
    "    df_home = pd.DataFrame({f'{team}_home': (df_copy['Home'] == team).astype(int)})\n",
    "    df_away = pd.DataFrame({f'{team}_away': (df_copy['Away'] == team).astype(int)})\n",
    "    dummy_dfs.extend([df_home, df_away])\n",
    "\n",
    "# Concatenate all dummy DataFrames along columns axis\n",
    "df_dummy = pd.concat(dummy_dfs, axis=1)\n",
    "\n",
    "# Drop the original 'Home' and 'Away' columns from df_copy\n",
    "df_copy.drop(columns=['Home', 'Away'], inplace=True)\n",
    "\n",
    "# Concatenate df_copy with df_dummy\n",
    "df_copy = pd.concat([df_copy, df_dummy], axis=1)\n",
    "\n",
    "# Print the DataFrame to verify the changes\n",
    "print(df_copy.head())\n"
   ]
  },
  {
   "cell_type": "code",
   "execution_count": 15,
   "id": "cbbea9c6",
   "metadata": {},
   "outputs": [
    {
     "name": "stdout",
     "output_type": "stream",
     "text": [
      "Mapping of original categories to numerical values:\n",
      "A: 0\n",
      "D: 1\n",
      "H: 2\n"
     ]
    }
   ],
   "source": [
    "from sklearn.preprocessing import LabelEncoder\n",
    "\n",
    "# Create a label encoder instance\n",
    "label_encoder = LabelEncoder()\n",
    "\n",
    "# Fit label encoder and transform the 'FTR' column in df_copy\n",
    "df_copy['FTR'] = label_encoder.fit_transform(df_copy['FTR'])\n",
    "\n",
    "# Print the mapping of original categories to numerical values\n",
    "print(\"Mapping of original categories to numerical values:\")\n",
    "for category, numerical_value in zip(label_encoder.classes_, label_encoder.transform(label_encoder.classes_)):\n",
    "    print(f\"{category}: {numerical_value}\")"
   ]
  },
  {
   "cell_type": "code",
   "execution_count": 16,
   "id": "219fe82c",
   "metadata": {},
   "outputs": [],
   "source": [
    "import warnings\n",
    "warnings.filterwarnings(\"ignore\")\n",
    "from sklearn.model_selection import train_test_split\n",
    "from sklearn.linear_model import LogisticRegression"
   ]
  },
  {
   "cell_type": "code",
   "execution_count": 17,
   "id": "58aaa9c2",
   "metadata": {},
   "outputs": [],
   "source": [
    "features = df_copy.drop(columns=['FTR'], axis=1)\n",
    "targets = df_copy['FTR']"
   ]
  },
  {
   "cell_type": "code",
   "execution_count": 18,
   "id": "6c0e9b59",
   "metadata": {},
   "outputs": [
    {
     "data": {
      "text/html": [
       "<div>\n",
       "<style scoped>\n",
       "    .dataframe tbody tr th:only-of-type {\n",
       "        vertical-align: middle;\n",
       "    }\n",
       "\n",
       "    .dataframe tbody tr th {\n",
       "        vertical-align: top;\n",
       "    }\n",
       "\n",
       "    .dataframe thead th {\n",
       "        text-align: right;\n",
       "    }\n",
       "</style>\n",
       "<table border=\"1\" class=\"dataframe\">\n",
       "  <thead>\n",
       "    <tr style=\"text-align: right;\">\n",
       "      <th></th>\n",
       "      <th>HomeGoals</th>\n",
       "      <th>AwayGoals</th>\n",
       "      <th>Middlesbrough_home</th>\n",
       "      <th>Middlesbrough_away</th>\n",
       "      <th>Wimbledon_home</th>\n",
       "      <th>Wimbledon_away</th>\n",
       "      <th>Manchester Utd_home</th>\n",
       "      <th>Manchester Utd_away</th>\n",
       "      <th>Blackburn_home</th>\n",
       "      <th>Blackburn_away</th>\n",
       "      <th>...</th>\n",
       "      <th>Cardiff City_home</th>\n",
       "      <th>Cardiff City_away</th>\n",
       "      <th>Bournemouth_home</th>\n",
       "      <th>Bournemouth_away</th>\n",
       "      <th>Huddersfield_home</th>\n",
       "      <th>Huddersfield_away</th>\n",
       "      <th>Brighton_home</th>\n",
       "      <th>Brighton_away</th>\n",
       "      <th>Brentford_home</th>\n",
       "      <th>Brentford_away</th>\n",
       "    </tr>\n",
       "  </thead>\n",
       "  <tbody>\n",
       "    <tr>\n",
       "      <th>0</th>\n",
       "      <td>2</td>\n",
       "      <td>1</td>\n",
       "      <td>0</td>\n",
       "      <td>1</td>\n",
       "      <td>0</td>\n",
       "      <td>0</td>\n",
       "      <td>0</td>\n",
       "      <td>0</td>\n",
       "      <td>0</td>\n",
       "      <td>0</td>\n",
       "      <td>...</td>\n",
       "      <td>0</td>\n",
       "      <td>0</td>\n",
       "      <td>0</td>\n",
       "      <td>0</td>\n",
       "      <td>0</td>\n",
       "      <td>0</td>\n",
       "      <td>0</td>\n",
       "      <td>0</td>\n",
       "      <td>0</td>\n",
       "      <td>0</td>\n",
       "    </tr>\n",
       "    <tr>\n",
       "      <th>1</th>\n",
       "      <td>2</td>\n",
       "      <td>1</td>\n",
       "      <td>0</td>\n",
       "      <td>0</td>\n",
       "      <td>0</td>\n",
       "      <td>1</td>\n",
       "      <td>0</td>\n",
       "      <td>0</td>\n",
       "      <td>0</td>\n",
       "      <td>0</td>\n",
       "      <td>...</td>\n",
       "      <td>0</td>\n",
       "      <td>0</td>\n",
       "      <td>0</td>\n",
       "      <td>0</td>\n",
       "      <td>0</td>\n",
       "      <td>0</td>\n",
       "      <td>0</td>\n",
       "      <td>0</td>\n",
       "      <td>0</td>\n",
       "      <td>0</td>\n",
       "    </tr>\n",
       "    <tr>\n",
       "      <th>2</th>\n",
       "      <td>2</td>\n",
       "      <td>1</td>\n",
       "      <td>0</td>\n",
       "      <td>0</td>\n",
       "      <td>0</td>\n",
       "      <td>0</td>\n",
       "      <td>0</td>\n",
       "      <td>1</td>\n",
       "      <td>0</td>\n",
       "      <td>0</td>\n",
       "      <td>...</td>\n",
       "      <td>0</td>\n",
       "      <td>0</td>\n",
       "      <td>0</td>\n",
       "      <td>0</td>\n",
       "      <td>0</td>\n",
       "      <td>0</td>\n",
       "      <td>0</td>\n",
       "      <td>0</td>\n",
       "      <td>0</td>\n",
       "      <td>0</td>\n",
       "    </tr>\n",
       "    <tr>\n",
       "      <th>3</th>\n",
       "      <td>3</td>\n",
       "      <td>3</td>\n",
       "      <td>0</td>\n",
       "      <td>0</td>\n",
       "      <td>0</td>\n",
       "      <td>0</td>\n",
       "      <td>0</td>\n",
       "      <td>0</td>\n",
       "      <td>0</td>\n",
       "      <td>1</td>\n",
       "      <td>...</td>\n",
       "      <td>0</td>\n",
       "      <td>0</td>\n",
       "      <td>0</td>\n",
       "      <td>0</td>\n",
       "      <td>0</td>\n",
       "      <td>0</td>\n",
       "      <td>0</td>\n",
       "      <td>0</td>\n",
       "      <td>0</td>\n",
       "      <td>0</td>\n",
       "    </tr>\n",
       "    <tr>\n",
       "      <th>4</th>\n",
       "      <td>2</td>\n",
       "      <td>4</td>\n",
       "      <td>0</td>\n",
       "      <td>0</td>\n",
       "      <td>0</td>\n",
       "      <td>0</td>\n",
       "      <td>0</td>\n",
       "      <td>0</td>\n",
       "      <td>0</td>\n",
       "      <td>0</td>\n",
       "      <td>...</td>\n",
       "      <td>0</td>\n",
       "      <td>0</td>\n",
       "      <td>0</td>\n",
       "      <td>0</td>\n",
       "      <td>0</td>\n",
       "      <td>0</td>\n",
       "      <td>0</td>\n",
       "      <td>0</td>\n",
       "      <td>0</td>\n",
       "      <td>0</td>\n",
       "    </tr>\n",
       "  </tbody>\n",
       "</table>\n",
       "<p>5 rows × 102 columns</p>\n",
       "</div>"
      ],
      "text/plain": [
       "   HomeGoals  AwayGoals  Middlesbrough_home  Middlesbrough_away  \\\n",
       "0          2          1                   0                   1   \n",
       "1          2          1                   0                   0   \n",
       "2          2          1                   0                   0   \n",
       "3          3          3                   0                   0   \n",
       "4          2          4                   0                   0   \n",
       "\n",
       "   Wimbledon_home  Wimbledon_away  Manchester Utd_home  Manchester Utd_away  \\\n",
       "0               0               0                    0                    0   \n",
       "1               0               1                    0                    0   \n",
       "2               0               0                    0                    1   \n",
       "3               0               0                    0                    0   \n",
       "4               0               0                    0                    0   \n",
       "\n",
       "   Blackburn_home  Blackburn_away  ...  Cardiff City_home  Cardiff City_away  \\\n",
       "0               0               0  ...                  0                  0   \n",
       "1               0               0  ...                  0                  0   \n",
       "2               0               0  ...                  0                  0   \n",
       "3               0               1  ...                  0                  0   \n",
       "4               0               0  ...                  0                  0   \n",
       "\n",
       "   Bournemouth_home  Bournemouth_away  Huddersfield_home  Huddersfield_away  \\\n",
       "0                 0                 0                  0                  0   \n",
       "1                 0                 0                  0                  0   \n",
       "2                 0                 0                  0                  0   \n",
       "3                 0                 0                  0                  0   \n",
       "4                 0                 0                  0                  0   \n",
       "\n",
       "   Brighton_home  Brighton_away  Brentford_home  Brentford_away  \n",
       "0              0              0               0               0  \n",
       "1              0              0               0               0  \n",
       "2              0              0               0               0  \n",
       "3              0              0               0               0  \n",
       "4              0              0               0               0  \n",
       "\n",
       "[5 rows x 102 columns]"
      ]
     },
     "execution_count": 18,
     "metadata": {},
     "output_type": "execute_result"
    }
   ],
   "source": [
    "features.head()"
   ]
  },
  {
   "cell_type": "code",
   "execution_count": 19,
   "id": "2f4da284",
   "metadata": {},
   "outputs": [
    {
     "data": {
      "text/plain": [
       "0    2\n",
       "1    2\n",
       "2    2\n",
       "3    1\n",
       "4    0\n",
       "Name: FTR, dtype: int64"
      ]
     },
     "execution_count": 19,
     "metadata": {},
     "output_type": "execute_result"
    }
   ],
   "source": [
    "targets.head()"
   ]
  },
  {
   "cell_type": "code",
   "execution_count": 20,
   "id": "85c7fbb2",
   "metadata": {},
   "outputs": [],
   "source": [
    "x_train, x_test, y_train, y_test = train_test_split(features, targets, stratify=targets, random_state=42, test_size=.2)"
   ]
  },
  {
   "cell_type": "code",
   "execution_count": 21,
   "id": "a42e3118",
   "metadata": {},
   "outputs": [
    {
     "data": {
      "text/plain": [
       "9620"
      ]
     },
     "execution_count": 21,
     "metadata": {},
     "output_type": "execute_result"
    }
   ],
   "source": [
    "len(x_train)"
   ]
  },
  {
   "cell_type": "code",
   "execution_count": 22,
   "id": "fa797d21",
   "metadata": {},
   "outputs": [
    {
     "data": {
      "text/plain": [
       "2406"
      ]
     },
     "execution_count": 22,
     "metadata": {},
     "output_type": "execute_result"
    }
   ],
   "source": [
    "len(x_test)"
   ]
  },
  {
   "cell_type": "code",
   "execution_count": 23,
   "id": "af2dc34b",
   "metadata": {},
   "outputs": [
    {
     "data": {
      "text/plain": [
       "LogisticRegression(max_iter=1000)"
      ]
     },
     "execution_count": 23,
     "metadata": {},
     "output_type": "execute_result"
    }
   ],
   "source": [
    "lr_model = LogisticRegression(max_iter=1000)\n",
    "lr_model.fit(x_train, y_train)"
   ]
  },
  {
   "cell_type": "code",
   "execution_count": 24,
   "id": "3bc320d1",
   "metadata": {},
   "outputs": [
    {
     "data": {
      "text/plain": [
       "FTR\n",
       "2    0.458922\n",
       "0    0.283552\n",
       "1    0.257525\n",
       "Name: proportion, dtype: float64"
      ]
     },
     "execution_count": 24,
     "metadata": {},
     "output_type": "execute_result"
    }
   ],
   "source": [
    "df_copy['FTR'].value_counts(normalize=True)"
   ]
  },
  {
   "cell_type": "code",
   "execution_count": 25,
   "id": "70274572",
   "metadata": {},
   "outputs": [
    {
     "name": "stdout",
     "output_type": "stream",
     "text": [
      "1.0\n",
      "1.0\n"
     ]
    }
   ],
   "source": [
    "print(lr_model.score(x_train, y_train))\n",
    "print(lr_model.score(x_test, y_test))"
   ]
  },
  {
   "cell_type": "code",
   "execution_count": 26,
   "id": "b8b75097",
   "metadata": {},
   "outputs": [
    {
     "data": {
      "image/png": "[encoded data removed]",
      "text/plain": [
       "<Figure size 800x550 with 2 Axes>"
      ]
     },
     "metadata": {},
     "output_type": "display_data"
    }
   ],
   "source": [
    "from sklearn.metrics import confusion_matrix, ConfusionMatrixDisplay\n",
    "import matplotlib.pyplot as plt\n",
    "\n",
    "%matplotlib inline\n",
    "\n",
    "#gather the predictions for our test dataset\n",
    "predictions = lr_model.predict(x_test)\n",
    "\n",
    "# construct the confusion matix - this retrns an array\n",
    "cm = confusion_matrix(y_test, predictions, labels=lr_model.classes_)\n",
    "\n",
    "# format and display the confusion matrix\n",
    "disp = ConfusionMatrixDisplay(confusion_matrix=cm, display_labels=lr_model.classes_)\n",
    "disp.plot(cmap=plt.cm.Blues)\n",
    "plt.show()"
   ]
  },
  {
   "cell_type": "code",
   "execution_count": 30,
   "id": "cf3c8a45",
   "metadata": {},
   "outputs": [
    {
     "name": "stdout",
     "output_type": "stream",
     "text": [
      "Training Logistic Regression...\n",
      "Evaluation results for Logistic Regression:\n",
      "Accuracy: 1.0\n",
      "Classification Report:\n",
      "              precision    recall  f1-score   support\n",
      "\n",
      "           0       1.00      1.00      1.00       682\n",
      "           1       1.00      1.00      1.00       620\n",
      "           2       1.00      1.00      1.00      1104\n",
      "\n",
      "    accuracy                           1.00      2406\n",
      "   macro avg       1.00      1.00      1.00      2406\n",
      "weighted avg       1.00      1.00      1.00      2406\n",
      "\n",
      "--------------------------------------------------\n",
      "Training Decision Tree...\n",
      "Evaluation results for Decision Tree:\n",
      "Accuracy: 0.999168744804655\n",
      "Classification Report:\n",
      "              precision    recall  f1-score   support\n",
      "\n",
      "           0       1.00      1.00      1.00       682\n",
      "           1       1.00      1.00      1.00       620\n",
      "           2       1.00      1.00      1.00      1104\n",
      "\n",
      "    accuracy                           1.00      2406\n",
      "   macro avg       1.00      1.00      1.00      2406\n",
      "weighted avg       1.00      1.00      1.00      2406\n",
      "\n",
      "--------------------------------------------------\n",
      "Training Random Forest...\n",
      "Evaluation results for Random Forest:\n",
      "Accuracy: 0.9975062344139651\n",
      "Classification Report:\n",
      "              precision    recall  f1-score   support\n",
      "\n",
      "           0       1.00      0.99      1.00       682\n",
      "           1       0.99      1.00      1.00       620\n",
      "           2       1.00      1.00      1.00      1104\n",
      "\n",
      "    accuracy                           1.00      2406\n",
      "   macro avg       1.00      1.00      1.00      2406\n",
      "weighted avg       1.00      1.00      1.00      2406\n",
      "\n",
      "--------------------------------------------------\n",
      "The best-performing classifier is: Logistic Regression\n"
     ]
    }
   ],
   "source": [
    "from sklearn.linear_model import LogisticRegression\n",
    "from sklearn.tree import DecisionTreeClassifier\n",
    "from sklearn.ensemble import RandomForestClassifier\n",
    "from sklearn.metrics import accuracy_score, classification_report\n",
    "\n",
    "# Initialize classifiers (excluding SVM)\n",
    "classifiers = {\n",
    "    \"Logistic Regression\": LogisticRegression(),\n",
    "    \"Decision Tree\": DecisionTreeClassifier(),\n",
    "    \"Random Forest\": RandomForestClassifier()\n",
    "}\n",
    "\n",
    "# Train and evaluate each classifier\n",
    "for name, clf in classifiers.items():\n",
    "    print(f\"Training {name}...\")\n",
    "    clf.fit(x_train, y_train)\n",
    "    \n",
    "    # Predictions\n",
    "    y_pred = clf.predict(x_test)\n",
    "    \n",
    "    # Evaluate\n",
    "    accuracy = accuracy_score(y_test, y_pred)\n",
    "    report = classification_report(y_test, y_pred)\n",
    "    \n",
    "    print(f\"Evaluation results for {name}:\")\n",
    "    print(f\"Accuracy: {accuracy}\")\n",
    "    print(\"Classification Report:\")\n",
    "    print(report)\n",
    "    print(\"-\" * 50)\n",
    "\n",
    "# Select the best-performing classifier based on evaluation metrics\n",
    "best_classifier_name = max(classifiers, key=lambda k: accuracy_score(y_test, classifiers[k].predict(x_test)))\n",
    "best_classifier = classifiers[best_classifier_name]\n",
    "\n",
    "print(f\"The best-performing classifier is: {best_classifier_name}\")"
   ]
  },
  {
   "cell_type": "code",
   "execution_count": null,
   "id": "3413c86d",
   "metadata": {},
   "outputs": [],
   "source": []
  }
 ],
 "metadata": {
  "kernelspec": {
   "display_name": "Python 3 (ipykernel)",
   "language": "python",
   "name": "python3"
  },
  "language_info": {
   "codemirror_mode": {
    "name": "ipython",
    "version": 3
   },
   "file_extension": ".py",
   "mimetype": "text/x-python",
   "name": "python",
   "nbconvert_exporter": "python",
   "pygments_lexer": "ipython3",
   "version": "3.9.13"
  }
 },
 "nbformat": 4,
 "nbformat_minor": 5
}
