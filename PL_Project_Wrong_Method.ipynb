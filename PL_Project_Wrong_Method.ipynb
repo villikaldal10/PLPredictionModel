{
 "cells": [
  {
   "cell_type": "markdown",
   "id": "77203984",
   "metadata": {},
   "source": [
    "## Premier League Match Predictor Model"
   ]
  },
  {
   "cell_type": "markdown",
   "id": "693114b3",
   "metadata": {},
   "source": [
    "### 1. Aquiring Data and First look"
   ]
  },
  {
   "cell_type": "code",
   "execution_count": 78,
   "id": "33c08dca",
   "metadata": {},
   "outputs": [
    {
     "data": {
      "text/html": [
       "<div>\n",
       "<style scoped>\n",
       "    .dataframe tbody tr th:only-of-type {\n",
       "        vertical-align: middle;\n",
       "    }\n",
       "\n",
       "    .dataframe tbody tr th {\n",
       "        vertical-align: top;\n",
       "    }\n",
       "\n",
       "    .dataframe thead th {\n",
       "        text-align: right;\n",
       "    }\n",
       "</style>\n",
       "<table border=\"1\" class=\"dataframe\">\n",
       "  <thead>\n",
       "    <tr style=\"text-align: right;\">\n",
       "      <th></th>\n",
       "      <th>Season_End_Year</th>\n",
       "      <th>Wk</th>\n",
       "      <th>Date</th>\n",
       "      <th>Home</th>\n",
       "      <th>HomeGoals</th>\n",
       "      <th>AwayGoals</th>\n",
       "      <th>Away</th>\n",
       "      <th>FTR</th>\n",
       "    </tr>\n",
       "  </thead>\n",
       "  <tbody>\n",
       "    <tr>\n",
       "      <th>0</th>\n",
       "      <td>1993</td>\n",
       "      <td>1</td>\n",
       "      <td>1992-08-15</td>\n",
       "      <td>Coventry City</td>\n",
       "      <td>2</td>\n",
       "      <td>1</td>\n",
       "      <td>Middlesbrough</td>\n",
       "      <td>H</td>\n",
       "    </tr>\n",
       "    <tr>\n",
       "      <th>1</th>\n",
       "      <td>1993</td>\n",
       "      <td>1</td>\n",
       "      <td>1992-08-15</td>\n",
       "      <td>Leeds United</td>\n",
       "      <td>2</td>\n",
       "      <td>1</td>\n",
       "      <td>Wimbledon</td>\n",
       "      <td>H</td>\n",
       "    </tr>\n",
       "    <tr>\n",
       "      <th>2</th>\n",
       "      <td>1993</td>\n",
       "      <td>1</td>\n",
       "      <td>1992-08-15</td>\n",
       "      <td>Sheffield Utd</td>\n",
       "      <td>2</td>\n",
       "      <td>1</td>\n",
       "      <td>Manchester Utd</td>\n",
       "      <td>H</td>\n",
       "    </tr>\n",
       "    <tr>\n",
       "      <th>3</th>\n",
       "      <td>1993</td>\n",
       "      <td>1</td>\n",
       "      <td>1992-08-15</td>\n",
       "      <td>Crystal Palace</td>\n",
       "      <td>3</td>\n",
       "      <td>3</td>\n",
       "      <td>Blackburn</td>\n",
       "      <td>D</td>\n",
       "    </tr>\n",
       "    <tr>\n",
       "      <th>4</th>\n",
       "      <td>1993</td>\n",
       "      <td>1</td>\n",
       "      <td>1992-08-15</td>\n",
       "      <td>Arsenal</td>\n",
       "      <td>2</td>\n",
       "      <td>4</td>\n",
       "      <td>Norwich City</td>\n",
       "      <td>A</td>\n",
       "    </tr>\n",
       "  </tbody>\n",
       "</table>\n",
       "</div>"
      ],
      "text/plain": [
       "   Season_End_Year  Wk        Date            Home  HomeGoals  AwayGoals  \\\n",
       "0             1993   1  1992-08-15   Coventry City          2          1   \n",
       "1             1993   1  1992-08-15    Leeds United          2          1   \n",
       "2             1993   1  1992-08-15   Sheffield Utd          2          1   \n",
       "3             1993   1  1992-08-15  Crystal Palace          3          3   \n",
       "4             1993   1  1992-08-15         Arsenal          2          4   \n",
       "\n",
       "             Away FTR  \n",
       "0   Middlesbrough   H  \n",
       "1       Wimbledon   H  \n",
       "2  Manchester Utd   H  \n",
       "3       Blackburn   D  \n",
       "4    Norwich City   A  "
      ]
     },
     "execution_count": 78,
     "metadata": {},
     "output_type": "execute_result"
    }
   ],
   "source": [
    "import pandas as pd\n",
    "\n",
    "# Load the dataset into a DataFrame\n",
    "df = pd.read_csv('premier-league-matches.csv')\n",
    "\n",
    "# Display the first few rows of the DataFrame\n",
    "df.head()"
   ]
  },
  {
   "cell_type": "code",
   "execution_count": 79,
   "id": "ab56ddfd",
   "metadata": {},
   "outputs": [
    {
     "data": {
      "text/html": [
       "<div>\n",
       "<style scoped>\n",
       "    .dataframe tbody tr th:only-of-type {\n",
       "        vertical-align: middle;\n",
       "    }\n",
       "\n",
       "    .dataframe tbody tr th {\n",
       "        vertical-align: top;\n",
       "    }\n",
       "\n",
       "    .dataframe thead th {\n",
       "        text-align: right;\n",
       "    }\n",
       "</style>\n",
       "<table border=\"1\" class=\"dataframe\">\n",
       "  <thead>\n",
       "    <tr style=\"text-align: right;\">\n",
       "      <th></th>\n",
       "      <th>Season_End_Year</th>\n",
       "      <th>Wk</th>\n",
       "      <th>Date</th>\n",
       "      <th>Home</th>\n",
       "      <th>HomeGoals</th>\n",
       "      <th>AwayGoals</th>\n",
       "      <th>Away</th>\n",
       "      <th>FTR</th>\n",
       "    </tr>\n",
       "  </thead>\n",
       "  <tbody>\n",
       "    <tr>\n",
       "      <th>12021</th>\n",
       "      <td>2023</td>\n",
       "      <td>38</td>\n",
       "      <td>2023-05-28</td>\n",
       "      <td>Everton</td>\n",
       "      <td>1</td>\n",
       "      <td>0</td>\n",
       "      <td>Bournemouth</td>\n",
       "      <td>H</td>\n",
       "    </tr>\n",
       "    <tr>\n",
       "      <th>12022</th>\n",
       "      <td>2023</td>\n",
       "      <td>38</td>\n",
       "      <td>2023-05-28</td>\n",
       "      <td>Leicester City</td>\n",
       "      <td>2</td>\n",
       "      <td>1</td>\n",
       "      <td>West Ham</td>\n",
       "      <td>H</td>\n",
       "    </tr>\n",
       "    <tr>\n",
       "      <th>12023</th>\n",
       "      <td>2023</td>\n",
       "      <td>38</td>\n",
       "      <td>2023-05-28</td>\n",
       "      <td>Aston Villa</td>\n",
       "      <td>2</td>\n",
       "      <td>1</td>\n",
       "      <td>Brighton</td>\n",
       "      <td>H</td>\n",
       "    </tr>\n",
       "    <tr>\n",
       "      <th>12024</th>\n",
       "      <td>2023</td>\n",
       "      <td>38</td>\n",
       "      <td>2023-05-28</td>\n",
       "      <td>Leeds United</td>\n",
       "      <td>1</td>\n",
       "      <td>4</td>\n",
       "      <td>Tottenham</td>\n",
       "      <td>A</td>\n",
       "    </tr>\n",
       "    <tr>\n",
       "      <th>12025</th>\n",
       "      <td>2023</td>\n",
       "      <td>38</td>\n",
       "      <td>2023-05-28</td>\n",
       "      <td>Brentford</td>\n",
       "      <td>1</td>\n",
       "      <td>0</td>\n",
       "      <td>Manchester City</td>\n",
       "      <td>H</td>\n",
       "    </tr>\n",
       "  </tbody>\n",
       "</table>\n",
       "</div>"
      ],
      "text/plain": [
       "       Season_End_Year  Wk        Date            Home  HomeGoals  AwayGoals  \\\n",
       "12021             2023  38  2023-05-28         Everton          1          0   \n",
       "12022             2023  38  2023-05-28  Leicester City          2          1   \n",
       "12023             2023  38  2023-05-28     Aston Villa          2          1   \n",
       "12024             2023  38  2023-05-28    Leeds United          1          4   \n",
       "12025             2023  38  2023-05-28       Brentford          1          0   \n",
       "\n",
       "                  Away FTR  \n",
       "12021      Bournemouth   H  \n",
       "12022         West Ham   H  \n",
       "12023         Brighton   H  \n",
       "12024        Tottenham   A  \n",
       "12025  Manchester City   H  "
      ]
     },
     "execution_count": 79,
     "metadata": {},
     "output_type": "execute_result"
    }
   ],
   "source": [
    "df.tail()"
   ]
  },
  {
   "cell_type": "code",
   "execution_count": 80,
   "id": "ca6654ef",
   "metadata": {},
   "outputs": [
    {
     "name": "stdout",
     "output_type": "stream",
     "text": [
      "<class 'pandas.core.frame.DataFrame'>\n",
      "RangeIndex: 12026 entries, 0 to 12025\n",
      "Data columns (total 8 columns):\n",
      " #   Column           Non-Null Count  Dtype \n",
      "---  ------           --------------  ----- \n",
      " 0   Season_End_Year  12026 non-null  int64 \n",
      " 1   Wk               12026 non-null  int64 \n",
      " 2   Date             12026 non-null  object\n",
      " 3   Home             12026 non-null  object\n",
      " 4   HomeGoals        12026 non-null  int64 \n",
      " 5   AwayGoals        12026 non-null  int64 \n",
      " 6   Away             12026 non-null  object\n",
      " 7   FTR              12026 non-null  object\n",
      "dtypes: int64(4), object(4)\n",
      "memory usage: 751.8+ KB\n"
     ]
    }
   ],
   "source": [
    "df.info()"
   ]
  },
  {
   "cell_type": "code",
   "execution_count": 81,
   "id": "e6a048aa",
   "metadata": {},
   "outputs": [
    {
     "data": {
      "image/png": "[encoded data removed]",
      "text/plain": [
       "<Figure size 640x480 with 1 Axes>"
      ]
     },
     "metadata": {},
     "output_type": "display_data"
    }
   ],
   "source": [
    "import pandas as pd\n",
    "import matplotlib.pyplot as plt\n",
    "\n",
    "# Assuming you have loaded your dataset into a DataFrame called 'df'\n",
    "# You can replace 'df' with your actual DataFrame name\n",
    "\n",
    "# Create a bar plot showing the frequency distribution of 'FTR'\n",
    "df['FTR'].value_counts().plot(kind='bar', color=['green', 'gray', 'red'])\n",
    "\n",
    "# Customize the plot\n",
    "plt.xlabel('Match Outcome')\n",
    "plt.ylabel('Frequency')\n",
    "plt.title('Frequency of Match Outcomes (Home Win, Draw, Away Win)')\n",
    "plt.xticks(rotation=0)  # Rotate x-axis labels if needed\n",
    "\n",
    "# Show the plot\n",
    "plt.show()\n"
   ]
  },
  {
   "cell_type": "code",
   "execution_count": 82,
   "id": "df64ec12",
   "metadata": {},
   "outputs": [
    {
     "data": {
      "image/png": "[encoded data removed]",
      "text/plain": [
       "<Figure size 640x480 with 1 Axes>"
      ]
     },
     "metadata": {},
     "output_type": "display_data"
    }
   ],
   "source": [
    "# create a figure and axis\n",
    "fig, ax = plt.subplots()\n",
    "\n",
    "# count the occurrence of each class\n",
    "data = df['Home'].value_counts()\n",
    "\n",
    "# get x and y data\n",
    "points = data.index\n",
    "frequency = data.values\n",
    "\n",
    "# create bar chart\n",
    "ax.bar(points, frequency)\n",
    "plt.setp(ax.get_xticklabels(), rotation=90)\n",
    "\n",
    "# set title and labels\n",
    "ax.set_title('Number of home games for all the English Premiership teams')\n",
    "ax.set_xlabel('Home Teams')\n",
    "ax.set_ylabel('Frequency')\n",
    "\n",
    "plt.show()\n"
   ]
  },
  {
   "cell_type": "code",
   "execution_count": 83,
   "id": "200d6e22",
   "metadata": {},
   "outputs": [
    {
     "data": {
      "text/plain": [
       "Index(['Season_End_Year', 'Wk', 'Date', 'Home', 'HomeGoals', 'AwayGoals',\n",
       "       'Away', 'FTR'],\n",
       "      dtype='object')"
      ]
     },
     "execution_count": 83,
     "metadata": {},
     "output_type": "execute_result"
    }
   ],
   "source": [
    "df.columns"
   ]
  },
  {
   "cell_type": "markdown",
   "id": "00b7ad60",
   "metadata": {},
   "source": [
    "## Checking for missing values!"
   ]
  },
  {
   "cell_type": "code",
   "execution_count": 84,
   "id": "c6a447fc",
   "metadata": {
    "scrolled": false
   },
   "outputs": [
    {
     "name": "stdout",
     "output_type": "stream",
     "text": [
      "Season_End_Year    0\n",
      "Wk                 0\n",
      "Date               0\n",
      "Home               0\n",
      "HomeGoals          0\n",
      "AwayGoals          0\n",
      "Away               0\n",
      "FTR                0\n",
      "dtype: int64\n"
     ]
    }
   ],
   "source": [
    "print(df.isnull().sum())"
   ]
  },
  {
   "cell_type": "markdown",
   "id": "6dd31c2d",
   "metadata": {},
   "source": [
    "### Drop irrelevant columns"
   ]
  },
  {
   "cell_type": "code",
   "execution_count": 85,
   "id": "4a890411",
   "metadata": {},
   "outputs": [],
   "source": [
    "df_copy = df.copy()"
   ]
  },
  {
   "cell_type": "code",
   "execution_count": 86,
   "id": "33ec1a71",
   "metadata": {},
   "outputs": [
    {
     "name": "stdout",
     "output_type": "stream",
     "text": [
      "             Home  HomeGoals  AwayGoals            Away FTR\n",
      "0   Coventry City          2          1   Middlesbrough   H\n",
      "1    Leeds United          2          1       Wimbledon   H\n",
      "2   Sheffield Utd          2          1  Manchester Utd   H\n",
      "3  Crystal Palace          3          3       Blackburn   D\n",
      "4         Arsenal          2          4    Norwich City   A\n"
     ]
    }
   ],
   "source": [
    "irrelevant_columns = ['Season_End_Year', 'Wk', 'Date']\n",
    "\n",
    "# Remove irrelevant columns from the copied dataset\n",
    "df_copy.drop(columns=irrelevant_columns, inplace=True)\n",
    "\n",
    "\n",
    "print(df_copy.head())"
   ]
  },
  {
   "cell_type": "code",
   "execution_count": 87,
   "id": "a29767a4",
   "metadata": {},
   "outputs": [
    {
     "name": "stdout",
     "output_type": "stream",
     "text": [
      "All different Home team options:\n",
      "['Coventry City' 'Leeds United' 'Sheffield Utd' 'Crystal Palace' 'Arsenal'\n",
      " 'Ipswich Town' 'Everton' 'Southampton' 'Chelsea' \"Nott'ham Forest\"\n",
      " 'Manchester City' 'Blackburn' 'Wimbledon' 'Tottenham' 'Liverpool'\n",
      " 'Aston Villa' 'Oldham Athletic' 'Middlesbrough' 'Norwich City' 'QPR'\n",
      " 'Manchester Utd' 'Sheffield Weds' 'Newcastle Utd' 'West Ham'\n",
      " 'Swindon Town' 'Leicester City' 'Bolton' 'Sunderland' 'Derby County'\n",
      " 'Barnsley' 'Charlton Ath' 'Watford' 'Bradford City' 'Fulham'\n",
      " 'Birmingham City' 'West Brom' 'Portsmouth' 'Wolves' 'Wigan Athletic'\n",
      " 'Reading' 'Hull City' 'Stoke City' 'Burnley' 'Blackpool' 'Swansea City'\n",
      " 'Cardiff City' 'Bournemouth' 'Brighton' 'Huddersfield' 'Brentford']\n"
     ]
    }
   ],
   "source": [
    "home_teams = df_copy['Home'].unique()\n",
    "print(\"All different Home team options:\")\n",
    "print(home_teams)"
   ]
  },
  {
   "cell_type": "code",
   "execution_count": 88,
   "id": "42e65fa9",
   "metadata": {},
   "outputs": [
    {
     "name": "stdout",
     "output_type": "stream",
     "text": [
      "All different Away team options:\n",
      "['Middlesbrough' 'Wimbledon' 'Manchester Utd' 'Blackburn' 'Norwich City'\n",
      " 'Aston Villa' 'Sheffield Weds' 'Tottenham' 'Oldham Athletic' 'Liverpool'\n",
      " 'QPR' 'Arsenal' 'Ipswich Town' 'Coventry City' 'Sheffield Utd'\n",
      " 'Leeds United' 'Crystal Palace' 'Manchester City' 'Chelsea' 'Southampton'\n",
      " 'Everton' \"Nott'ham Forest\" 'Swindon Town' 'West Ham' 'Newcastle Utd'\n",
      " 'Leicester City' 'Bolton' 'Derby County' 'Sunderland' 'Barnsley'\n",
      " 'Charlton Ath' 'Bradford City' 'Watford' 'Fulham' 'West Brom'\n",
      " 'Birmingham City' 'Wolves' 'Portsmouth' 'Wigan Athletic' 'Reading'\n",
      " 'Stoke City' 'Hull City' 'Burnley' 'Blackpool' 'Swansea City'\n",
      " 'Cardiff City' 'Bournemouth' 'Huddersfield' 'Brighton' 'Brentford']\n"
     ]
    }
   ],
   "source": [
    "away_teams = df_copy['Away'].unique()\n",
    "print(\"All different Away team options:\")\n",
    "print(away_teams)\n"
   ]
  },
  {
   "cell_type": "code",
   "execution_count": 89,
   "id": "1384a632",
   "metadata": {},
   "outputs": [
    {
     "name": "stdout",
     "output_type": "stream",
     "text": [
      "Both lists contain the same team names.\n"
     ]
    }
   ],
   "source": [
    "home_teams = ['Coventry City', 'Leeds United', 'Sheffield Utd', 'Crystal Palace', 'Arsenal',\n",
    "              'Ipswich Town', 'Everton', 'Southampton', 'Chelsea', \"Nott'ham Forest\",\n",
    "              'Manchester City', 'Blackburn', 'Wimbledon', 'Tottenham', 'Liverpool',\n",
    "              'Aston Villa', 'Oldham Athletic', 'Middlesbrough', 'Norwich City', 'QPR',\n",
    "              'Manchester Utd', 'Sheffield Weds', 'Newcastle Utd', 'West Ham',\n",
    "              'Swindon Town', 'Leicester City', 'Bolton', 'Sunderland', 'Derby County',\n",
    "              'Barnsley', 'Charlton Ath', 'Watford', 'Bradford City', 'Fulham',\n",
    "              'Birmingham City', 'West Brom', 'Portsmouth', 'Wolves', 'Wigan Athletic',\n",
    "              'Reading', 'Hull City', 'Stoke City', 'Burnley', 'Blackpool', 'Swansea City',\n",
    "              'Cardiff City', 'Bournemouth', 'Brighton', 'Huddersfield', 'Brentford']\n",
    "\n",
    "\n",
    "away_teams = ['Middlesbrough', 'Wimbledon', 'Manchester Utd', 'Blackburn', 'Norwich City',\n",
    "              'Aston Villa', 'Sheffield Weds', 'Tottenham', 'Oldham Athletic', 'Liverpool',\n",
    "              'QPR', 'Arsenal', 'Ipswich Town', 'Coventry City', 'Sheffield Utd',\n",
    "              'Leeds United', 'Crystal Palace', 'Manchester City', 'Chelsea', 'Southampton',\n",
    "              'Everton', \"Nott'ham Forest\", 'Swindon Town', 'West Ham', 'Newcastle Utd',\n",
    "              'Leicester City', 'Bolton', 'Derby County', 'Sunderland', 'Barnsley',\n",
    "              'Charlton Ath', 'Bradford City', 'Watford', 'Fulham', 'West Brom',\n",
    "              'Birmingham City', 'Wolves', 'Portsmouth', 'Wigan Athletic', 'Reading',\n",
    "              'Stoke City', 'Hull City', 'Burnley', 'Blackpool', 'Swansea City',\n",
    "              'Cardiff City', 'Bournemouth', 'Huddersfield', 'Brighton', 'Brentford']\n",
    "\n",
    "# Convert lists to sets and check for equality\n",
    "if set(home_teams) == set(away_teams):\n",
    "    print(\"Both lists contain the same team names.\")\n",
    "else:\n",
    "    print(\"The lists do not contain the same team names.\")\n"
   ]
  },
  {
   "cell_type": "markdown",
   "id": "fd1f855c",
   "metadata": {},
   "source": [
    "### Convert categorical columns into numerical"
   ]
  },
  {
   "cell_type": "markdown",
   "id": "22980e4b",
   "metadata": {},
   "source": [
    "#### First the \"Home\" and \"Away\" columns into numerical"
   ]
  },
  {
   "cell_type": "code",
   "execution_count": 90,
   "id": "d7464757",
   "metadata": {},
   "outputs": [
    {
     "name": "stdout",
     "output_type": "stream",
     "text": [
      "Mapping of original team names to numerical values:\n",
      "Arsenal: 0\n",
      "Aston Villa: 1\n",
      "Barnsley: 2\n",
      "Birmingham City: 3\n",
      "Blackburn: 4\n",
      "Blackpool: 5\n",
      "Bolton: 6\n",
      "Bournemouth: 7\n",
      "Bradford City: 8\n",
      "Brentford: 9\n",
      "Brighton: 10\n",
      "Burnley: 11\n",
      "Cardiff City: 12\n",
      "Charlton Ath: 13\n",
      "Chelsea: 14\n",
      "Coventry City: 15\n",
      "Crystal Palace: 16\n",
      "Derby County: 17\n",
      "Everton: 18\n",
      "Fulham: 19\n",
      "Huddersfield: 20\n",
      "Hull City: 21\n",
      "Ipswich Town: 22\n",
      "Leeds United: 23\n",
      "Leicester City: 24\n",
      "Liverpool: 25\n",
      "Manchester City: 26\n",
      "Manchester Utd: 27\n",
      "Middlesbrough: 28\n",
      "Newcastle Utd: 29\n",
      "Norwich City: 30\n",
      "Nott'ham Forest: 31\n",
      "Oldham Athletic: 32\n",
      "Portsmouth: 33\n",
      "QPR: 34\n",
      "Reading: 35\n",
      "Sheffield Utd: 36\n",
      "Sheffield Weds: 37\n",
      "Southampton: 38\n",
      "Stoke City: 39\n",
      "Sunderland: 40\n",
      "Swansea City: 41\n",
      "Swindon Town: 42\n",
      "Tottenham: 43\n",
      "Watford: 44\n",
      "West Brom: 45\n",
      "West Ham: 46\n",
      "Wigan Athletic: 47\n",
      "Wimbledon: 48\n",
      "Wolves: 49\n"
     ]
    }
   ],
   "source": [
    "from sklearn.preprocessing import LabelEncoder\n",
    "\n",
    "team_names = ['Middlesbrough', 'Wimbledon', 'Manchester Utd', 'Blackburn', 'Norwich City',\n",
    "              'Aston Villa', 'Sheffield Weds', 'Tottenham', 'Oldham Athletic', 'Liverpool',\n",
    "              'QPR', 'Arsenal', 'Ipswich Town', 'Coventry City', 'Sheffield Utd',\n",
    "              'Leeds United', 'Crystal Palace', 'Manchester City', 'Chelsea', 'Southampton',\n",
    "              'Everton', \"Nott'ham Forest\", 'Swindon Town', 'West Ham', 'Newcastle Utd',\n",
    "              'Leicester City', 'Bolton', 'Derby County', 'Sunderland', 'Barnsley',\n",
    "              'Charlton Ath', 'Bradford City', 'Watford', 'Fulham', 'West Brom',\n",
    "              'Birmingham City', 'Wolves', 'Portsmouth', 'Wigan Athletic', 'Reading',\n",
    "              'Stoke City', 'Hull City', 'Burnley', 'Blackpool', 'Swansea City',\n",
    "              'Cardiff City', 'Bournemouth', 'Huddersfield', 'Brighton', 'Brentford']\n",
    "\n",
    "# Create a label encoder instance\n",
    "label_encoder = LabelEncoder()\n",
    "\n",
    "# Fit label encoder and transform team names in df_copy\n",
    "for column in ['Home', 'Away']:\n",
    "    df_copy[column] = label_encoder.fit_transform(df_copy[column])\n",
    "\n",
    "# Create a dictionary to store the mapping of team names to numerical values\n",
    "team_mapping = {name: numerical_value for name, numerical_value in zip(label_encoder.classes_, label_encoder.transform(label_encoder.classes_))}\n",
    "\n",
    "# Print the mapping of original team names to numerical values\n",
    "print(\"Mapping of original team names to numerical values:\")\n",
    "for name, numerical_value in team_mapping.items():\n",
    "    print(f\"{name}: {numerical_value}\")\n"
   ]
  },
  {
   "cell_type": "markdown",
   "id": "3b06b0e9",
   "metadata": {},
   "source": [
    "# Question! ^^^ (One-hot encoding?)"
   ]
  },
  {
   "cell_type": "markdown",
   "id": "1539b3fe",
   "metadata": {},
   "source": [
    "#### Also the \"FTR\" column. Instead of H(ome win),A(way win), or D(raw)"
   ]
  },
  {
   "cell_type": "code",
   "execution_count": 91,
   "id": "2c9694f9",
   "metadata": {},
   "outputs": [
    {
     "name": "stdout",
     "output_type": "stream",
     "text": [
      "Mapping of original categories to numerical values:\n",
      "A: 0\n",
      "D: 1\n",
      "H: 2\n",
      "   Home  HomeGoals  AwayGoals  Away  FTR\n",
      "0    15          2          1    28    2\n",
      "1    23          2          1    48    2\n",
      "2    36          2          1    27    2\n",
      "3    16          3          3     4    1\n",
      "4     0          2          4    30    0\n",
      "5    22          1          1     1    1\n",
      "6    18          1          1    37    1\n",
      "7    38          0          0    43    1\n",
      "8    14          1          1    32    1\n",
      "9    31          1          0    25    2\n"
     ]
    }
   ],
   "source": [
    "from sklearn.preprocessing import LabelEncoder\n",
    "\n",
    "# Create a label encoder instance\n",
    "label_encoder = LabelEncoder()\n",
    "\n",
    "# Fit label encoder and transform the 'FTR' column\n",
    "df_copy['FTR'] = label_encoder.fit_transform(df_copy['FTR'])\n",
    "\n",
    "# Print the mapping of original categories to numerical values\n",
    "print(\"Mapping of original categories to numerical values:\")\n",
    "for category, numerical_value in zip(label_encoder.classes_, label_encoder.transform(label_encoder.classes_)):\n",
    "    print(f\"{category}: {numerical_value}\")\n",
    "\n",
    "\n",
    "print(df_copy.head(10))"
   ]
  },
  {
   "cell_type": "code",
   "execution_count": 92,
   "id": "ab9aa498",
   "metadata": {},
   "outputs": [
    {
     "name": "stdout",
     "output_type": "stream",
     "text": [
      "<class 'pandas.core.frame.DataFrame'>\n",
      "RangeIndex: 12026 entries, 0 to 12025\n",
      "Data columns (total 5 columns):\n",
      " #   Column     Non-Null Count  Dtype\n",
      "---  ------     --------------  -----\n",
      " 0   Home       12026 non-null  int64\n",
      " 1   HomeGoals  12026 non-null  int64\n",
      " 2   AwayGoals  12026 non-null  int64\n",
      " 3   Away       12026 non-null  int64\n",
      " 4   FTR        12026 non-null  int64\n",
      "dtypes: int64(5)\n",
      "memory usage: 469.9 KB\n"
     ]
    }
   ],
   "source": [
    "df_copy.info()"
   ]
  },
  {
   "cell_type": "markdown",
   "id": "fc8b16fa",
   "metadata": {},
   "source": [
    "2. Win percentage at home"
   ]
  },
  {
   "cell_type": "code",
   "execution_count": 93,
   "id": "ea78f495",
   "metadata": {},
   "outputs": [
    {
     "name": "stdout",
     "output_type": "stream",
     "text": [
      "Win Percentage at Home:\n",
      "0: 64.20%\n",
      "1: 40.89%\n",
      "2: 36.84%\n",
      "3: 37.59%\n",
      "4: 48.56%\n",
      "5: 26.32%\n",
      "6: 37.65%\n",
      "7: 35.09%\n",
      "8: 26.32%\n",
      "9: 44.74%\n",
      "10: 32.46%\n",
      "11: 34.21%\n",
      "12: 28.95%\n",
      "13: 38.16%\n",
      "14: 60.50%\n",
      "15: 36.72%\n",
      "16: 31.11%\n",
      "17: 36.09%\n",
      "18: 45.88%\n",
      "19: 42.11%\n",
      "20: 21.05%\n",
      "21: 30.53%\n",
      "22: 34.65%\n",
      "23: 46.39%\n",
      "24: 40.00%\n",
      "25: 63.19%\n",
      "26: 59.40%\n",
      "27: 70.08%\n",
      "28: 38.33%\n",
      "29: 49.25%\n",
      "30: 33.67%\n",
      "31: 36.44%\n",
      "32: 35.71%\n",
      "33: 40.60%\n",
      "34: 36.69%\n",
      "35: 40.35%\n",
      "36: 38.38%\n",
      "37: 39.87%\n",
      "38: 38.96%\n",
      "39: 42.63%\n",
      "40: 32.24%\n",
      "41: 38.35%\n",
      "42: 19.05%\n",
      "43: 54.29%\n",
      "44: 29.61%\n",
      "45: 30.77%\n",
      "46: 43.33%\n",
      "47: 31.58%\n",
      "48: 39.24%\n",
      "49: 37.43%\n",
      "\n",
      "Win Percentage Away:\n",
      "0: 44.20%\n",
      "1: 28.25%\n",
      "2: 15.79%\n",
      "3: 17.29%\n",
      "4: 26.72%\n",
      "5: 26.32%\n",
      "6: 22.67%\n",
      "7: 23.68%\n",
      "8: 10.53%\n",
      "9: 28.95%\n",
      "10: 25.44%\n",
      "11: 20.39%\n",
      "12: 15.79%\n",
      "13: 23.03%\n",
      "14: 45.21%\n",
      "15: 19.21%\n",
      "16: 26.67%\n",
      "17: 15.04%\n",
      "18: 25.71%\n",
      "19: 16.12%\n",
      "20: 10.53%\n",
      "21: 12.63%\n",
      "22: 21.78%\n",
      "23: 30.24%\n",
      "24: 27.08%\n",
      "25: 42.35%\n",
      "26: 40.80%\n",
      "27: 51.93%\n",
      "28: 19.16%\n",
      "29: 25.56%\n",
      "30: 16.84%\n",
      "31: 22.03%\n",
      "32: 16.67%\n",
      "33: 18.80%\n",
      "34: 21.58%\n",
      "35: 15.79%\n",
      "36: 15.15%\n",
      "37: 24.05%\n",
      "38: 21.65%\n",
      "39: 18.42%\n",
      "40: 18.09%\n",
      "41: 23.31%\n",
      "42: 4.76%\n",
      "43: 33.11%\n",
      "44: 18.42%\n",
      "45: 16.60%\n",
      "46: 23.60%\n",
      "47: 24.34%\n",
      "48: 23.42%\n",
      "49: 21.64%\n"
     ]
    }
   ],
   "source": [
    "# Calculate Win Percentage at Home\n",
    "home_wins = df_copy[df_copy['FTR'] == 2].groupby('Home').size()  # Count the number of home wins for each team\n",
    "total_home_matches = df_copy.groupby('Home').size()  # Count the total number of home matches played by each team\n",
    "win_percentage_home = (home_wins / total_home_matches) * 100  # Calculate the win percentage\n",
    "\n",
    "# Calculate Win Percentage Away\n",
    "away_wins = df_copy[df_copy['FTR'] == 0].groupby('Away').size()  # Count the number of away wins for each team\n",
    "total_away_matches = df_copy.groupby('Away').size()  # Count the total number of away matches played by each team\n",
    "win_percentage_away = (away_wins / total_away_matches) * 100  # Calculate the win percentage\n",
    "\n",
    "# Print the win percentages\n",
    "print(\"Win Percentage at Home:\")\n",
    "for team, percentage in zip(win_percentage_home.index, win_percentage_home.values):\n",
    "    print(f\"{team}: {percentage:.2f}%\")\n",
    "\n",
    "print(\"\\nWin Percentage Away:\")\n",
    "for team, percentage in zip(win_percentage_away.index, win_percentage_away.values):\n",
    "    print(f\"{team}: {percentage:.2f}%\")"
   ]
  },
  {
   "cell_type": "markdown",
   "id": "58904ffc",
   "metadata": {},
   "source": [
    "Adding this information as columns, so for example when Arsenal plays, it shows their win percentage at home and the win percentage of the away team."
   ]
  },
  {
   "cell_type": "code",
   "execution_count": 94,
   "id": "69f5bfa8",
   "metadata": {},
   "outputs": [
    {
     "name": "stdout",
     "output_type": "stream",
     "text": [
      "       Home  HomeGoals  AwayGoals  Away  FTR  WinPercentageHome  \\\n",
      "0        15          2          1    28    2              36.72   \n",
      "1        23          2          1    48    2              46.39   \n",
      "2        36          2          1    27    2              38.38   \n",
      "3        16          3          3     4    1              31.11   \n",
      "4         0          2          4    30    0              64.20   \n",
      "...     ...        ...        ...   ...  ...                ...   \n",
      "12021    18          1          0     7    2              45.88   \n",
      "12022    24          2          1    46    2              40.00   \n",
      "12023     1          2          1    10    2              40.89   \n",
      "12024    23          1          4    43    0              46.39   \n",
      "12025     9          1          0    26    2              44.74   \n",
      "\n",
      "       WinPercentageAway  \n",
      "0                  19.16  \n",
      "1                  23.42  \n",
      "2                  51.93  \n",
      "3                  26.72  \n",
      "4                  16.84  \n",
      "...                  ...  \n",
      "12021              23.68  \n",
      "12022              23.60  \n",
      "12023              25.44  \n",
      "12024              33.11  \n",
      "12025              40.80  \n",
      "\n",
      "[12026 rows x 7 columns]\n"
     ]
    }
   ],
   "source": [
    "# Create dictionaries for win percentages at home and away\n",
    "win_percentage_home_dict = {0: 64.20, 1: 40.89, 2: 36.84, 3: 37.59, 4: 48.56, 5: 26.32, 6: 37.65, 7: 35.09,\n",
    "                            8: 26.32, 9: 44.74, 10: 32.46, 11: 34.21, 12: 28.95, 13: 38.16, 14: 60.50, 15: 36.72,\n",
    "                            16: 31.11, 17: 36.09, 18: 45.88, 19: 42.11, 20: 21.05, 21: 30.53, 22: 34.65, 23: 46.39,\n",
    "                            24: 40.00, 25: 63.19, 26: 59.40, 27: 70.08, 28: 38.33, 29: 49.25, 30: 33.67, 31: 36.44,\n",
    "                            32: 35.71, 33: 40.60, 34: 36.69, 35: 40.35, 36: 38.38, 37: 39.87, 38: 38.96, 39: 42.63,\n",
    "                            40: 32.24, 41: 38.35, 42: 19.05, 43: 54.29, 44: 29.61, 45: 30.77, 46: 43.33, 47: 31.58,\n",
    "                            48: 39.24, 49: 37.43}\n",
    "\n",
    "win_percentage_away_dict = {0: 44.20, 1: 28.25, 2: 15.79, 3: 17.29, 4: 26.72, 5: 26.32, 6: 22.67, 7: 23.68,\n",
    "                            8: 10.53, 9: 28.95, 10: 25.44, 11: 20.39, 12: 15.79, 13: 23.03, 14: 45.21, 15: 19.21,\n",
    "                            16: 26.67, 17: 15.04, 18: 25.71, 19: 16.12, 20: 10.53, 21: 12.63, 22: 21.78, 23: 30.24,\n",
    "                            24: 27.08, 25: 42.35, 26: 40.80, 27: 51.93, 28: 19.16, 29: 25.56, 30: 16.84, 31: 22.03,\n",
    "                            32: 16.67, 33: 18.80, 34: 21.58, 35: 15.79, 36: 15.15, 37: 24.05, 38: 21.65, 39: 18.42,\n",
    "                            40: 18.09, 41: 23.31, 42: 4.76, 43: 33.11, 44: 18.42, 45: 16.60, 46: 23.60, 47: 24.34,\n",
    "                            48: 23.42, 49: 21.64}\n",
    "\n",
    "# Assign win percentages at home and away to df_copy\n",
    "df_copy['WinPercentageHome'] = df_copy['Home'].map(win_percentage_home_dict)\n",
    "df_copy['WinPercentageAway'] = df_copy['Away'].map(win_percentage_away_dict)\n",
    "\n",
    "\n",
    "print(df_copy)"
   ]
  },
  {
   "cell_type": "markdown",
   "id": "1bd0f414",
   "metadata": {},
   "source": [
    "### Split data into training and testing sets (80/20 split?)"
   ]
  },
  {
   "cell_type": "code",
   "execution_count": 95,
   "id": "a9c75e47",
   "metadata": {},
   "outputs": [
    {
     "name": "stdout",
     "output_type": "stream",
     "text": [
      "Index(['Home', 'HomeGoals', 'AwayGoals', 'Away', 'FTR', 'WinPercentageHome',\n",
      "       'WinPercentageAway'],\n",
      "      dtype='object')\n"
     ]
    }
   ],
   "source": [
    "# Check the columns of df_copy\n",
    "print(df_copy.columns)"
   ]
  },
  {
   "cell_type": "code",
   "execution_count": null,
   "id": "b8acb764",
   "metadata": {},
   "outputs": [],
   "source": [
    "## Use pycaret, see what it says is the best algortihm. See accuracy."
   ]
  },
  {
   "cell_type": "code",
   "execution_count": 96,
   "id": "ef38e0f8",
   "metadata": {},
   "outputs": [],
   "source": [
    "from sklearn.model_selection import train_test_split\n",
    "from sklearn.linear_model import LogisticRegression"
   ]
  },
  {
   "cell_type": "code",
   "execution_count": 97,
   "id": "f700db63",
   "metadata": {},
   "outputs": [
    {
     "name": "stdout",
     "output_type": "stream",
     "text": [
      "Features:\n",
      "       Home  Away  WinPercentageHome  WinPercentageAway\n",
      "0        15    28              36.72              19.16\n",
      "1        23    48              46.39              23.42\n",
      "2        36    27              38.38              51.93\n",
      "3        16     4              31.11              26.72\n",
      "4         0    30              64.20              16.84\n",
      "...     ...   ...                ...                ...\n",
      "12021    18     7              45.88              23.68\n",
      "12022    24    46              40.00              23.60\n",
      "12023     1    10              40.89              25.44\n",
      "12024    23    43              46.39              33.11\n",
      "12025     9    26              44.74              40.80\n",
      "\n",
      "[12026 rows x 4 columns]\n",
      "\n",
      "Target:\n",
      "0        2\n",
      "1        2\n",
      "2        2\n",
      "3        1\n",
      "4        0\n",
      "        ..\n",
      "12021    2\n",
      "12022    2\n",
      "12023    2\n",
      "12024    0\n",
      "12025    2\n",
      "Name: FTR, Length: 12026, dtype: int64\n"
     ]
    }
   ],
   "source": [
    "features = df_copy.drop(['FTR', 'HomeGoals', 'AwayGoals'], axis=1)  # Exclude 'FTR', 'HomeGoals', and 'AwayGoals' columns\n",
    "target = df_copy['FTR']\n",
    "\n",
    "print(\"Features:\")\n",
    "print(features)\n",
    "print(\"\\nTarget:\")\n",
    "print(target)"
   ]
  },
  {
   "cell_type": "code",
   "execution_count": 98,
   "id": "fdc6d8da",
   "metadata": {
    "scrolled": false
   },
   "outputs": [
    {
     "data": {
      "text/html": [
       "<div>\n",
       "<style scoped>\n",
       "    .dataframe tbody tr th:only-of-type {\n",
       "        vertical-align: middle;\n",
       "    }\n",
       "\n",
       "    .dataframe tbody tr th {\n",
       "        vertical-align: top;\n",
       "    }\n",
       "\n",
       "    .dataframe thead th {\n",
       "        text-align: right;\n",
       "    }\n",
       "</style>\n",
       "<table border=\"1\" class=\"dataframe\">\n",
       "  <thead>\n",
       "    <tr style=\"text-align: right;\">\n",
       "      <th></th>\n",
       "      <th>Home</th>\n",
       "      <th>Away</th>\n",
       "      <th>WinPercentageHome</th>\n",
       "      <th>WinPercentageAway</th>\n",
       "    </tr>\n",
       "  </thead>\n",
       "  <tbody>\n",
       "    <tr>\n",
       "      <th>0</th>\n",
       "      <td>15</td>\n",
       "      <td>28</td>\n",
       "      <td>36.72</td>\n",
       "      <td>19.16</td>\n",
       "    </tr>\n",
       "    <tr>\n",
       "      <th>1</th>\n",
       "      <td>23</td>\n",
       "      <td>48</td>\n",
       "      <td>46.39</td>\n",
       "      <td>23.42</td>\n",
       "    </tr>\n",
       "    <tr>\n",
       "      <th>2</th>\n",
       "      <td>36</td>\n",
       "      <td>27</td>\n",
       "      <td>38.38</td>\n",
       "      <td>51.93</td>\n",
       "    </tr>\n",
       "    <tr>\n",
       "      <th>3</th>\n",
       "      <td>16</td>\n",
       "      <td>4</td>\n",
       "      <td>31.11</td>\n",
       "      <td>26.72</td>\n",
       "    </tr>\n",
       "    <tr>\n",
       "      <th>4</th>\n",
       "      <td>0</td>\n",
       "      <td>30</td>\n",
       "      <td>64.20</td>\n",
       "      <td>16.84</td>\n",
       "    </tr>\n",
       "  </tbody>\n",
       "</table>\n",
       "</div>"
      ],
      "text/plain": [
       "   Home  Away  WinPercentageHome  WinPercentageAway\n",
       "0    15    28              36.72              19.16\n",
       "1    23    48              46.39              23.42\n",
       "2    36    27              38.38              51.93\n",
       "3    16     4              31.11              26.72\n",
       "4     0    30              64.20              16.84"
      ]
     },
     "execution_count": 98,
     "metadata": {},
     "output_type": "execute_result"
    }
   ],
   "source": [
    "features.head()"
   ]
  },
  {
   "cell_type": "code",
   "execution_count": 124,
   "id": "426275c1",
   "metadata": {},
   "outputs": [
    {
     "data": {
      "text/plain": [
       "0    2\n",
       "1    2\n",
       "2    2\n",
       "3    1\n",
       "4    0\n",
       "Name: FTR, dtype: int64"
      ]
     },
     "execution_count": 124,
     "metadata": {},
     "output_type": "execute_result"
    }
   ],
   "source": [
    "targets.head()"
   ]
  },
  {
   "cell_type": "code",
   "execution_count": 100,
   "id": "06dbe365",
   "metadata": {},
   "outputs": [],
   "source": [
    "x_train, x_test, y_train, y_test = train_test_split(features, targets, stratify=targets, random_state=42, test_size=.2)"
   ]
  },
  {
   "cell_type": "code",
   "execution_count": 101,
   "id": "59161698",
   "metadata": {},
   "outputs": [
    {
     "data": {
      "text/plain": [
       "9620"
      ]
     },
     "execution_count": 101,
     "metadata": {},
     "output_type": "execute_result"
    }
   ],
   "source": [
    "len(x_train)"
   ]
  },
  {
   "cell_type": "code",
   "execution_count": 102,
   "id": "69e5ee75",
   "metadata": {},
   "outputs": [
    {
     "data": {
      "text/plain": [
       "2406"
      ]
     },
     "execution_count": 102,
     "metadata": {},
     "output_type": "execute_result"
    }
   ],
   "source": [
    "len(x_test)"
   ]
  },
  {
   "cell_type": "code",
   "execution_count": 103,
   "id": "e0547e31",
   "metadata": {},
   "outputs": [
    {
     "name": "stdout",
     "output_type": "stream",
     "text": [
      "Shape of training features: (9620, 4)\n",
      "Shape of testing features: (2406, 4)\n",
      "Shape of training target variable: (9620,)\n",
      "Shape of testing target variable: (2406,)\n"
     ]
    }
   ],
   "source": [
    "# Print the shapes of the training and testing sets\n",
    "print(\"Shape of training features:\", x_train.shape)\n",
    "print(\"Shape of testing features:\", x_test.shape)\n",
    "print(\"Shape of training target variable:\", y_train.shape)\n",
    "print(\"Shape of testing target variable:\", y_test.shape)"
   ]
  },
  {
   "cell_type": "code",
   "execution_count": 112,
   "id": "ec883365",
   "metadata": {},
   "outputs": [
    {
     "data": {
      "text/plain": [
       "LogisticRegression(max_iter=1000)"
      ]
     },
     "execution_count": 112,
     "metadata": {},
     "output_type": "execute_result"
    }
   ],
   "source": [
    "lr_model = LogisticRegression(max_iter=1000)\n",
    "lr_model.fit(x_train, y_train)"
   ]
  },
  {
   "cell_type": "code",
   "execution_count": 113,
   "id": "5c7a6324",
   "metadata": {},
   "outputs": [
    {
     "data": {
      "text/plain": [
       "FTR\n",
       "2    0.458922\n",
       "0    0.283552\n",
       "1    0.257525\n",
       "Name: proportion, dtype: float64"
      ]
     },
     "execution_count": 113,
     "metadata": {},
     "output_type": "execute_result"
    }
   ],
   "source": [
    "df_copy['FTR'].value_counts(normalize=True)"
   ]
  },
  {
   "cell_type": "code",
   "execution_count": 118,
   "id": "62b750d3",
   "metadata": {},
   "outputs": [
    {
     "name": "stdout",
     "output_type": "stream",
     "text": [
      "0.5085239085239085\n",
      "0.5087281795511222\n"
     ]
    }
   ],
   "source": [
    "print(lr_model.score(x_train, y_train))\n",
    "print(lr_model.score(x_test, y_test))"
   ]
  },
  {
   "cell_type": "code",
   "execution_count": 119,
   "id": "5ab27184",
   "metadata": {},
   "outputs": [
    {
     "data": {
      "image/png": "[encoded data removed]",
      "text/plain": [
       "<Figure size 640x480 with 2 Axes>"
      ]
     },
     "metadata": {},
     "output_type": "display_data"
    }
   ],
   "source": [
    "from sklearn.metrics import confusion_matrix, ConfusionMatrixDisplay\n",
    "import matplotlib.pyplot as plt\n",
    "\n",
    "%matplotlib inline\n",
    "\n",
    "#gather the predictions for our test dataset\n",
    "predictions = lr_model.predict(x_test)\n",
    "\n",
    "# construct the confusion matix - this retrns an array\n",
    "cm = confusion_matrix(y_test, predictions, labels=lr_model.classes_)\n",
    "\n",
    "# format and display the confusion matrix\n",
    "disp = ConfusionMatrixDisplay(confusion_matrix=cm, display_labels=lr_model.classes_)\n",
    "disp.plot(cmap=plt.cm.Blues)\n",
    "plt.show()"
   ]
  },
  {
   "cell_type": "code",
   "execution_count": 120,
   "id": "61ce063c",
   "metadata": {},
   "outputs": [
    {
     "data": {
      "text/plain": [
       "array([[0.26005168, 0.26506405, 0.47488427],\n",
       "       [0.25523355, 0.27595091, 0.46881553],\n",
       "       [0.62740162, 0.21577095, 0.15682742],\n",
       "       [0.28812509, 0.28891274, 0.42296217],\n",
       "       [0.58265569, 0.22703871, 0.1903056 ]])"
      ]
     },
     "execution_count": 120,
     "metadata": {},
     "output_type": "execute_result"
    }
   ],
   "source": [
    "lr_model.predict_proba(x_test)[:5]"
   ]
  },
  {
   "cell_type": "code",
   "execution_count": 123,
   "id": "4cf690e1",
   "metadata": {},
   "outputs": [
    {
     "name": "stdout",
     "output_type": "stream",
     "text": [
      "Predicted Outcome (FTR): [2]\n"
     ]
    }
   ],
   "source": [
    "# Define the 'Home' and 'Away' encoded values\n",
    "home_encoded = 0  #'Arsenal'\n",
    "away_encoded = 26  #'Manchester City'\n",
    "\n",
    "# Define the 'WinPercentageHome' and 'WinPercentageAway' values\n",
    "home_win_percentage = 64.2\n",
    "away_win_percentage = 40.8\n",
    "\n",
    "# Create a DataFrame with the encoded values and additional features\n",
    "match_data = {\n",
    "    'Home': [home_encoded],\n",
    "    'Away': [away_encoded],\n",
    "    'WinPercentageHome': [home_win_percentage],\n",
    "    'WinPercentageAway': [away_win_percentage]\n",
    "}\n",
    "match_df = pd.DataFrame(match_data)\n",
    "\n",
    "# Use the trained model to predict the outcome of the match\n",
    "predicted_outcome = lr_model.predict(match_df)\n",
    "\n",
    "# Print the predicted outcome\n",
    "print(\"Predicted Outcome (FTR):\", predicted_outcome)"
   ]
  },
  {
   "cell_type": "markdown",
   "id": "1a55eebf",
   "metadata": {},
   "source": [
    "## This game ended 1-0 Arsenal. Our prediction was successfull."
   ]
  },
  {
   "cell_type": "code",
   "execution_count": 126,
   "id": "731d2abc",
   "metadata": {},
   "outputs": [
    {
     "name": "stdout",
     "output_type": "stream",
     "text": [
      "Predicted Outcome (FTR): [2]\n"
     ]
    }
   ],
   "source": [
    "# Define the 'Home' and 'Away' encoded values\n",
    "home_encoded = 26  #Man City\n",
    "away_encoded = 0   #Arsenal\n",
    "\n",
    "# Define the 'WinPercentageHome' and 'WinPercentageAway' values\n",
    "home_win_percentage = 59.40\n",
    "away_win_percentage = 44.20\n",
    "\n",
    "# Create a DataFrame with the encoded values and additional features\n",
    "match_data = {\n",
    "    'Home': [home_encoded],\n",
    "    'Away': [away_encoded],\n",
    "    'WinPercentageHome': [home_win_percentage],\n",
    "    'WinPercentageAway': [away_win_percentage]\n",
    "}\n",
    "match_df = pd.DataFrame(match_data)\n",
    "\n",
    "# Use the trained model to predict the outcome of the match\n",
    "predicted_outcome = lr_model.predict(match_df)\n",
    "\n",
    "# Print the predicted outcome\n",
    "print(\"Predicted Outcome (FTR):\", predicted_outcome)"
   ]
  },
  {
   "cell_type": "markdown",
   "id": "2c8fa1d2",
   "metadata": {},
   "source": [
    "## Actual outcome: 0-0. City was favorited by the sportsbook this game so prediction makes sense."
   ]
  },
  {
   "cell_type": "code",
   "execution_count": 127,
   "id": "042d2603",
   "metadata": {},
   "outputs": [
    {
     "name": "stdout",
     "output_type": "stream",
     "text": [
      "Predicted Outcome (FTR): [0]\n"
     ]
    }
   ],
   "source": [
    "# Define the 'Home' and 'Away' encoded values\n",
    "home_encoded = 18 #Everton  \n",
    "away_encoded = 25 #Liverpool\n",
    "\n",
    "# Define the 'WinPercentageHome' and 'WinPercentageAway' values\n",
    "home_win_percentage = 45.88\n",
    "away_win_percentage = 42.35\n",
    "\n",
    "# Create a DataFrame with the encoded values and additional features\n",
    "match_data = {\n",
    "    'Home': [home_encoded],\n",
    "    'Away': [away_encoded],\n",
    "    'WinPercentageHome': [home_win_percentage],\n",
    "    'WinPercentageAway': [away_win_percentage]\n",
    "}\n",
    "match_df = pd.DataFrame(match_data)\n",
    "\n",
    "# Use the trained model to predict the outcome of the match\n",
    "predicted_outcome = lr_model.predict(match_df)\n",
    "\n",
    "# Print the predicted outcome\n",
    "print(\"Predicted Outcome (FTR):\", predicted_outcome)"
   ]
  },
  {
   "cell_type": "markdown",
   "id": "4253afef",
   "metadata": {},
   "source": [
    "## This game was played earlier today and ended with a 2-0 Home Win for Everton, against our models predictions, the sportsbooks had Everton ML at 7x and Liverpool was 1.4x. You cant predict football! "
   ]
  },
  {
   "cell_type": "code",
   "execution_count": null,
   "id": "d8cd4644",
   "metadata": {},
   "outputs": [],
   "source": [
    "### Using pycaret to find the best model for our data "
   ]
  }
 ],
 "metadata": {
  "kernelspec": {
   "display_name": "Python 3 (ipykernel)",
   "language": "python",
   "name": "python3"
  },
  "language_info": {
   "codemirror_mode": {
    "name": "ipython",
    "version": 3
   },
   "file_extension": ".py",
   "mimetype": "text/x-python",
   "name": "python",
   "nbconvert_exporter": "python",
   "pygments_lexer": "ipython3",
   "version": "3.9.13"
  }
 },
 "nbformat": 4,
 "nbformat_minor": 5
}
