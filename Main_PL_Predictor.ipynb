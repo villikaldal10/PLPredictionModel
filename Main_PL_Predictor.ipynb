{
 "cells": [
  {
   "cell_type": "code",
   "execution_count": 40,
   "id": "c391807a",
   "metadata": {
    "scrolled": true
   },
   "outputs": [
    {
     "data": {
      "text/html": [
       "<div>\n",
       "<style scoped>\n",
       "    .dataframe tbody tr th:only-of-type {\n",
       "        vertical-align: middle;\n",
       "    }\n",
       "\n",
       "    .dataframe tbody tr th {\n",
       "        vertical-align: top;\n",
       "    }\n",
       "\n",
       "    .dataframe thead th {\n",
       "        text-align: right;\n",
       "    }\n",
       "</style>\n",
       "<table border=\"1\" class=\"dataframe\">\n",
       "  <thead>\n",
       "    <tr style=\"text-align: right;\">\n",
       "      <th></th>\n",
       "      <th>Season_End_Year</th>\n",
       "      <th>Wk</th>\n",
       "      <th>Date</th>\n",
       "      <th>Home</th>\n",
       "      <th>HomeGoals</th>\n",
       "      <th>AwayGoals</th>\n",
       "      <th>Away</th>\n",
       "      <th>FTR</th>\n",
       "    </tr>\n",
       "  </thead>\n",
       "  <tbody>\n",
       "    <tr>\n",
       "      <th>0</th>\n",
       "      <td>1993</td>\n",
       "      <td>1</td>\n",
       "      <td>1992-08-15</td>\n",
       "      <td>Coventry City</td>\n",
       "      <td>2</td>\n",
       "      <td>1</td>\n",
       "      <td>Middlesbrough</td>\n",
       "      <td>H</td>\n",
       "    </tr>\n",
       "    <tr>\n",
       "      <th>1</th>\n",
       "      <td>1993</td>\n",
       "      <td>1</td>\n",
       "      <td>1992-08-15</td>\n",
       "      <td>Leeds United</td>\n",
       "      <td>2</td>\n",
       "      <td>1</td>\n",
       "      <td>Wimbledon</td>\n",
       "      <td>H</td>\n",
       "    </tr>\n",
       "    <tr>\n",
       "      <th>2</th>\n",
       "      <td>1993</td>\n",
       "      <td>1</td>\n",
       "      <td>1992-08-15</td>\n",
       "      <td>Sheffield Utd</td>\n",
       "      <td>2</td>\n",
       "      <td>1</td>\n",
       "      <td>Manchester Utd</td>\n",
       "      <td>H</td>\n",
       "    </tr>\n",
       "    <tr>\n",
       "      <th>3</th>\n",
       "      <td>1993</td>\n",
       "      <td>1</td>\n",
       "      <td>1992-08-15</td>\n",
       "      <td>Crystal Palace</td>\n",
       "      <td>3</td>\n",
       "      <td>3</td>\n",
       "      <td>Blackburn</td>\n",
       "      <td>D</td>\n",
       "    </tr>\n",
       "    <tr>\n",
       "      <th>4</th>\n",
       "      <td>1993</td>\n",
       "      <td>1</td>\n",
       "      <td>1992-08-15</td>\n",
       "      <td>Arsenal</td>\n",
       "      <td>2</td>\n",
       "      <td>4</td>\n",
       "      <td>Norwich City</td>\n",
       "      <td>A</td>\n",
       "    </tr>\n",
       "  </tbody>\n",
       "</table>\n",
       "</div>"
      ],
      "text/plain": [
       "   Season_End_Year  Wk        Date            Home  HomeGoals  AwayGoals  \\\n",
       "0             1993   1  1992-08-15   Coventry City          2          1   \n",
       "1             1993   1  1992-08-15    Leeds United          2          1   \n",
       "2             1993   1  1992-08-15   Sheffield Utd          2          1   \n",
       "3             1993   1  1992-08-15  Crystal Palace          3          3   \n",
       "4             1993   1  1992-08-15         Arsenal          2          4   \n",
       "\n",
       "             Away FTR  \n",
       "0   Middlesbrough   H  \n",
       "1       Wimbledon   H  \n",
       "2  Manchester Utd   H  \n",
       "3       Blackburn   D  \n",
       "4    Norwich City   A  "
      ]
     },
     "execution_count": 40,
     "metadata": {},
     "output_type": "execute_result"
    }
   ],
   "source": [
    "import pandas as pd\n",
    "\n",
    "# Load the dataset into a DataFrame\n",
    "df = pd.read_csv('premier-league-matches.csv')\n",
    "\n",
    "# Display the first few rows of the DataFrame\n",
    "df.head()"
   ]
  },
  {
   "cell_type": "code",
   "execution_count": 41,
   "id": "abf3a2e8",
   "metadata": {
    "scrolled": true
   },
   "outputs": [
    {
     "data": {
      "text/html": [
       "<div>\n",
       "<style scoped>\n",
       "    .dataframe tbody tr th:only-of-type {\n",
       "        vertical-align: middle;\n",
       "    }\n",
       "\n",
       "    .dataframe tbody tr th {\n",
       "        vertical-align: top;\n",
       "    }\n",
       "\n",
       "    .dataframe thead th {\n",
       "        text-align: right;\n",
       "    }\n",
       "</style>\n",
       "<table border=\"1\" class=\"dataframe\">\n",
       "  <thead>\n",
       "    <tr style=\"text-align: right;\">\n",
       "      <th></th>\n",
       "      <th>Season_End_Year</th>\n",
       "      <th>Wk</th>\n",
       "      <th>Date</th>\n",
       "      <th>Home</th>\n",
       "      <th>HomeGoals</th>\n",
       "      <th>AwayGoals</th>\n",
       "      <th>Away</th>\n",
       "      <th>FTR</th>\n",
       "    </tr>\n",
       "  </thead>\n",
       "  <tbody>\n",
       "    <tr>\n",
       "      <th>12021</th>\n",
       "      <td>2023</td>\n",
       "      <td>38</td>\n",
       "      <td>2023-05-28</td>\n",
       "      <td>Everton</td>\n",
       "      <td>1</td>\n",
       "      <td>0</td>\n",
       "      <td>Bournemouth</td>\n",
       "      <td>H</td>\n",
       "    </tr>\n",
       "    <tr>\n",
       "      <th>12022</th>\n",
       "      <td>2023</td>\n",
       "      <td>38</td>\n",
       "      <td>2023-05-28</td>\n",
       "      <td>Leicester City</td>\n",
       "      <td>2</td>\n",
       "      <td>1</td>\n",
       "      <td>West Ham</td>\n",
       "      <td>H</td>\n",
       "    </tr>\n",
       "    <tr>\n",
       "      <th>12023</th>\n",
       "      <td>2023</td>\n",
       "      <td>38</td>\n",
       "      <td>2023-05-28</td>\n",
       "      <td>Aston Villa</td>\n",
       "      <td>2</td>\n",
       "      <td>1</td>\n",
       "      <td>Brighton</td>\n",
       "      <td>H</td>\n",
       "    </tr>\n",
       "    <tr>\n",
       "      <th>12024</th>\n",
       "      <td>2023</td>\n",
       "      <td>38</td>\n",
       "      <td>2023-05-28</td>\n",
       "      <td>Leeds United</td>\n",
       "      <td>1</td>\n",
       "      <td>4</td>\n",
       "      <td>Tottenham</td>\n",
       "      <td>A</td>\n",
       "    </tr>\n",
       "    <tr>\n",
       "      <th>12025</th>\n",
       "      <td>2023</td>\n",
       "      <td>38</td>\n",
       "      <td>2023-05-28</td>\n",
       "      <td>Brentford</td>\n",
       "      <td>1</td>\n",
       "      <td>0</td>\n",
       "      <td>Manchester City</td>\n",
       "      <td>H</td>\n",
       "    </tr>\n",
       "  </tbody>\n",
       "</table>\n",
       "</div>"
      ],
      "text/plain": [
       "       Season_End_Year  Wk        Date            Home  HomeGoals  AwayGoals  \\\n",
       "12021             2023  38  2023-05-28         Everton          1          0   \n",
       "12022             2023  38  2023-05-28  Leicester City          2          1   \n",
       "12023             2023  38  2023-05-28     Aston Villa          2          1   \n",
       "12024             2023  38  2023-05-28    Leeds United          1          4   \n",
       "12025             2023  38  2023-05-28       Brentford          1          0   \n",
       "\n",
       "                  Away FTR  \n",
       "12021      Bournemouth   H  \n",
       "12022         West Ham   H  \n",
       "12023         Brighton   H  \n",
       "12024        Tottenham   A  \n",
       "12025  Manchester City   H  "
      ]
     },
     "execution_count": 41,
     "metadata": {},
     "output_type": "execute_result"
    }
   ],
   "source": [
    "df.tail()"
   ]
  },
  {
   "cell_type": "code",
   "execution_count": 42,
   "id": "51afd19e",
   "metadata": {},
   "outputs": [
    {
     "name": "stdout",
     "output_type": "stream",
     "text": [
      "<class 'pandas.core.frame.DataFrame'>\n",
      "RangeIndex: 12026 entries, 0 to 12025\n",
      "Data columns (total 8 columns):\n",
      " #   Column           Non-Null Count  Dtype \n",
      "---  ------           --------------  ----- \n",
      " 0   Season_End_Year  12026 non-null  int64 \n",
      " 1   Wk               12026 non-null  int64 \n",
      " 2   Date             12026 non-null  object\n",
      " 3   Home             12026 non-null  object\n",
      " 4   HomeGoals        12026 non-null  int64 \n",
      " 5   AwayGoals        12026 non-null  int64 \n",
      " 6   Away             12026 non-null  object\n",
      " 7   FTR              12026 non-null  object\n",
      "dtypes: int64(4), object(4)\n",
      "memory usage: 751.8+ KB\n"
     ]
    }
   ],
   "source": [
    "df.info()"
   ]
  },
  {
   "cell_type": "code",
   "execution_count": 43,
   "id": "717927d6",
   "metadata": {},
   "outputs": [
    {
     "name": "stdout",
     "output_type": "stream",
     "text": [
      "Season_End_Year    0\n",
      "Wk                 0\n",
      "Date               0\n",
      "Home               0\n",
      "HomeGoals          0\n",
      "AwayGoals          0\n",
      "Away               0\n",
      "FTR                0\n",
      "dtype: int64\n"
     ]
    }
   ],
   "source": [
    "print(df.isnull().sum())"
   ]
  },
  {
   "cell_type": "code",
   "execution_count": 44,
   "id": "53dfb63c",
   "metadata": {},
   "outputs": [],
   "source": [
    "df_copy = df.copy()"
   ]
  },
  {
   "cell_type": "code",
   "execution_count": 45,
   "id": "dad36e20",
   "metadata": {},
   "outputs": [
    {
     "name": "stdout",
     "output_type": "stream",
     "text": [
      "             Home  HomeGoals  AwayGoals            Away FTR\n",
      "0   Coventry City          2          1   Middlesbrough   H\n",
      "1    Leeds United          2          1       Wimbledon   H\n",
      "2   Sheffield Utd          2          1  Manchester Utd   H\n",
      "3  Crystal Palace          3          3       Blackburn   D\n",
      "4         Arsenal          2          4    Norwich City   A\n"
     ]
    }
   ],
   "source": [
    "irrelevant_columns = ['Season_End_Year', 'Wk', 'Date']\n",
    "\n",
    "# Remove irrelevant columns from the copied dataset\n",
    "df_copy.drop(columns=irrelevant_columns, inplace=True)\n",
    "\n",
    "\n",
    "print(df_copy.head())"
   ]
  },
  {
   "cell_type": "code",
   "execution_count": 48,
   "id": "6af6333f",
   "metadata": {},
   "outputs": [
    {
     "name": "stdout",
     "output_type": "stream",
     "text": [
      "                 Home  HomeGoals  AwayGoals             Away  FTR  \\\n",
      "0       Coventry City          2          1    Middlesbrough    2   \n",
      "1        Leeds United          2          1        Wimbledon    2   \n",
      "2       Sheffield Utd          2          1   Manchester Utd    2   \n",
      "3      Crystal Palace          3          3        Blackburn    1   \n",
      "4             Arsenal          2          4     Norwich City    0   \n",
      "...               ...        ...        ...              ...  ...   \n",
      "12021         Everton          1          0      Bournemouth    2   \n",
      "12022  Leicester City          2          1         West Ham    2   \n",
      "12023     Aston Villa          2          1         Brighton    2   \n",
      "12024    Leeds United          1          4        Tottenham    0   \n",
      "12025       Brentford          1          0  Manchester City    2   \n",
      "\n",
      "       MiddlesbroughHome  MiddlesbroughAway  WimbledonHome  WimbledonAway  \\\n",
      "0                      0                  1              0              0   \n",
      "1                      0                  0              0              1   \n",
      "2                      0                  0              0              0   \n",
      "3                      0                  0              0              0   \n",
      "4                      0                  0              0              0   \n",
      "...                  ...                ...            ...            ...   \n",
      "12021                  0                  0              0              0   \n",
      "12022                  0                  0              0              0   \n",
      "12023                  0                  0              0              0   \n",
      "12024                  0                  0              0              0   \n",
      "12025                  0                  0              0              0   \n",
      "\n",
      "       Manchester UtdHome  ...  Cardiff CityHome  Cardiff CityAway  \\\n",
      "0                       0  ...                 0                 0   \n",
      "1                       0  ...                 0                 0   \n",
      "2                       0  ...                 0                 0   \n",
      "3                       0  ...                 0                 0   \n",
      "4                       0  ...                 0                 0   \n",
      "...                   ...  ...               ...               ...   \n",
      "12021                   0  ...                 0                 0   \n",
      "12022                   0  ...                 0                 0   \n",
      "12023                   0  ...                 0                 0   \n",
      "12024                   0  ...                 0                 0   \n",
      "12025                   0  ...                 0                 0   \n",
      "\n",
      "       BournemouthHome  BournemouthAway  HuddersfieldHome  HuddersfieldAway  \\\n",
      "0                    0                0                 0                 0   \n",
      "1                    0                0                 0                 0   \n",
      "2                    0                0                 0                 0   \n",
      "3                    0                0                 0                 0   \n",
      "4                    0                0                 0                 0   \n",
      "...                ...              ...               ...               ...   \n",
      "12021                0                1                 0                 0   \n",
      "12022                0                0                 0                 0   \n",
      "12023                0                0                 0                 0   \n",
      "12024                0                0                 0                 0   \n",
      "12025                0                0                 0                 0   \n",
      "\n",
      "       BrightonHome  BrightonAway  BrentfordHome  BrentfordAway  \n",
      "0                 0             0              0              0  \n",
      "1                 0             0              0              0  \n",
      "2                 0             0              0              0  \n",
      "3                 0             0              0              0  \n",
      "4                 0             0              0              0  \n",
      "...             ...           ...            ...            ...  \n",
      "12021             0             0              0              0  \n",
      "12022             0             0              0              0  \n",
      "12023             0             1              0              0  \n",
      "12024             0             0              0              0  \n",
      "12025             0             0              1              0  \n",
      "\n",
      "[12026 rows x 105 columns]\n"
     ]
    }
   ],
   "source": [
    "import pandas as pd\n",
    "\n",
    "# List of team names\n",
    "team_names = ['Middlesbrough', 'Wimbledon', 'Manchester Utd', 'Blackburn', 'Norwich City',\n",
    "              'Aston Villa', 'Sheffield Weds', 'Tottenham', 'Oldham Athletic', 'Liverpool',\n",
    "              'QPR', 'Arsenal', 'Ipswich Town', 'Coventry City', 'Sheffield Utd',\n",
    "              'Leeds United', 'Crystal Palace', 'Manchester City', 'Chelsea', 'Southampton',\n",
    "              'Everton', \"Nott'ham Forest\", 'Swindon Town', 'West Ham', 'Newcastle Utd',\n",
    "              'Leicester City', 'Bolton', 'Derby County', 'Sunderland', 'Barnsley',\n",
    "              'Charlton Ath', 'Bradford City', 'Watford', 'Fulham', 'West Brom',\n",
    "              'Birmingham City', 'Wolves', 'Portsmouth', 'Wigan Athletic', 'Reading',\n",
    "              'Stoke City', 'Hull City', 'Burnley', 'Blackpool', 'Swansea City',\n",
    "              'Cardiff City', 'Bournemouth', 'Huddersfield', 'Brighton', 'Brentford']\n",
    "\n",
    "# Create DataFrame with team names as columns using one-hot encoding\n",
    "for team in team_names:\n",
    "    df_copy[f'{team}Home'] = (df_copy['Home'] == team).astype(int)\n",
    "    df_copy[f'{team}Away'] = (df_copy['Away'] == team).astype(int)\n",
    "\n",
    "\n",
    "print(df_copy)"
   ]
  },
  {
   "cell_type": "code",
   "execution_count": 49,
   "id": "986db3b6",
   "metadata": {},
   "outputs": [
    {
     "name": "stdout",
     "output_type": "stream",
     "text": [
      "Mapping of original categories to numerical values:\n",
      "0: 0\n",
      "1: 1\n",
      "2: 2\n"
     ]
    }
   ],
   "source": [
    "from sklearn.preprocessing import LabelEncoder\n",
    "\n",
    "# Create a label encoder instance\n",
    "label_encoder = LabelEncoder()\n",
    "\n",
    "# Fit label encoder and transform the 'FTR' column in df_copy\n",
    "df_copy['FTR'] = label_encoder.fit_transform(df_copy['FTR'])\n",
    "\n",
    "# Print the mapping of original categories to numerical values\n",
    "print(\"Mapping of original categories to numerical values:\")\n",
    "for category, numerical_value in zip(label_encoder.classes_, label_encoder.transform(label_encoder.classes_)):\n",
    "    print(f\"{category}: {numerical_value}\")"
   ]
  },
  {
   "cell_type": "code",
   "execution_count": 50,
   "id": "74579712",
   "metadata": {},
   "outputs": [
    {
     "name": "stdout",
     "output_type": "stream",
     "text": [
      "<class 'pandas.core.frame.DataFrame'>\n",
      "RangeIndex: 12026 entries, 0 to 12025\n",
      "Columns: 105 entries, Home to BrentfordAway\n",
      "dtypes: int64(103), object(2)\n",
      "memory usage: 9.6+ MB\n"
     ]
    }
   ],
   "source": [
    "df_copy.info()"
   ]
  },
  {
   "cell_type": "code",
   "execution_count": 51,
   "id": "3088dea6",
   "metadata": {},
   "outputs": [
    {
     "name": "stdout",
     "output_type": "stream",
     "text": [
      "   HomeGoals  AwayGoals  FTR  MiddlesbroughHome  MiddlesbroughAway  \\\n",
      "0          2          1    2                  0                  1   \n",
      "1          2          1    2                  0                  0   \n",
      "2          2          1    2                  0                  0   \n",
      "3          3          3    1                  0                  0   \n",
      "4          2          4    0                  0                  0   \n",
      "\n",
      "   WimbledonHome  WimbledonAway  Manchester UtdHome  Manchester UtdAway  \\\n",
      "0              0              0                   0                   0   \n",
      "1              0              1                   0                   0   \n",
      "2              0              0                   0                   1   \n",
      "3              0              0                   0                   0   \n",
      "4              0              0                   0                   0   \n",
      "\n",
      "   BlackburnHome  ...  Cardiff CityHome  Cardiff CityAway  BournemouthHome  \\\n",
      "0              0  ...                 0                 0                0   \n",
      "1              0  ...                 0                 0                0   \n",
      "2              0  ...                 0                 0                0   \n",
      "3              0  ...                 0                 0                0   \n",
      "4              0  ...                 0                 0                0   \n",
      "\n",
      "   BournemouthAway  HuddersfieldHome  HuddersfieldAway  BrightonHome  \\\n",
      "0                0                 0                 0             0   \n",
      "1                0                 0                 0             0   \n",
      "2                0                 0                 0             0   \n",
      "3                0                 0                 0             0   \n",
      "4                0                 0                 0             0   \n",
      "\n",
      "   BrightonAway  BrentfordHome  BrentfordAway  \n",
      "0             0              0              0  \n",
      "1             0              0              0  \n",
      "2             0              0              0  \n",
      "3             0              0              0  \n",
      "4             0              0              0  \n",
      "\n",
      "[5 rows x 103 columns]\n"
     ]
    }
   ],
   "source": [
    "df_copy.drop(columns=['Home', 'Away'], inplace=True)\n",
    "\n",
    "print(df_copy.head())"
   ]
  },
  {
   "cell_type": "code",
   "execution_count": null,
   "id": "386605c3",
   "metadata": {},
   "outputs": [],
   "source": [
    "## Just go with the simple ones for now. LR, RF."
   ]
  },
  {
   "cell_type": "markdown",
   "id": "3dab96d3",
   "metadata": {},
   "source": [
    "## Split data into training and testing sets 80/20."
   ]
  },
  {
   "cell_type": "code",
   "execution_count": 52,
   "id": "3676b733",
   "metadata": {},
   "outputs": [
    {
     "name": "stdout",
     "output_type": "stream",
     "text": [
      "Features:\n",
      "       MiddlesbroughHome  MiddlesbroughAway  WimbledonHome  WimbledonAway  \\\n",
      "0                      0                  1              0              0   \n",
      "1                      0                  0              0              1   \n",
      "2                      0                  0              0              0   \n",
      "3                      0                  0              0              0   \n",
      "4                      0                  0              0              0   \n",
      "...                  ...                ...            ...            ...   \n",
      "12021                  0                  0              0              0   \n",
      "12022                  0                  0              0              0   \n",
      "12023                  0                  0              0              0   \n",
      "12024                  0                  0              0              0   \n",
      "12025                  0                  0              0              0   \n",
      "\n",
      "       Manchester UtdHome  Manchester UtdAway  BlackburnHome  BlackburnAway  \\\n",
      "0                       0                   0              0              0   \n",
      "1                       0                   0              0              0   \n",
      "2                       0                   1              0              0   \n",
      "3                       0                   0              0              1   \n",
      "4                       0                   0              0              0   \n",
      "...                   ...                 ...            ...            ...   \n",
      "12021                   0                   0              0              0   \n",
      "12022                   0                   0              0              0   \n",
      "12023                   0                   0              0              0   \n",
      "12024                   0                   0              0              0   \n",
      "12025                   0                   0              0              0   \n",
      "\n",
      "       Norwich CityHome  Norwich CityAway  ...  Cardiff CityHome  \\\n",
      "0                     0                 0  ...                 0   \n",
      "1                     0                 0  ...                 0   \n",
      "2                     0                 0  ...                 0   \n",
      "3                     0                 0  ...                 0   \n",
      "4                     0                 1  ...                 0   \n",
      "...                 ...               ...  ...               ...   \n",
      "12021                 0                 0  ...                 0   \n",
      "12022                 0                 0  ...                 0   \n",
      "12023                 0                 0  ...                 0   \n",
      "12024                 0                 0  ...                 0   \n",
      "12025                 0                 0  ...                 0   \n",
      "\n",
      "       Cardiff CityAway  BournemouthHome  BournemouthAway  HuddersfieldHome  \\\n",
      "0                     0                0                0                 0   \n",
      "1                     0                0                0                 0   \n",
      "2                     0                0                0                 0   \n",
      "3                     0                0                0                 0   \n",
      "4                     0                0                0                 0   \n",
      "...                 ...              ...              ...               ...   \n",
      "12021                 0                0                1                 0   \n",
      "12022                 0                0                0                 0   \n",
      "12023                 0                0                0                 0   \n",
      "12024                 0                0                0                 0   \n",
      "12025                 0                0                0                 0   \n",
      "\n",
      "       HuddersfieldAway  BrightonHome  BrightonAway  BrentfordHome  \\\n",
      "0                     0             0             0              0   \n",
      "1                     0             0             0              0   \n",
      "2                     0             0             0              0   \n",
      "3                     0             0             0              0   \n",
      "4                     0             0             0              0   \n",
      "...                 ...           ...           ...            ...   \n",
      "12021                 0             0             0              0   \n",
      "12022                 0             0             0              0   \n",
      "12023                 0             0             1              0   \n",
      "12024                 0             0             0              0   \n",
      "12025                 0             0             0              1   \n",
      "\n",
      "       BrentfordAway  \n",
      "0                  0  \n",
      "1                  0  \n",
      "2                  0  \n",
      "3                  0  \n",
      "4                  0  \n",
      "...              ...  \n",
      "12021              0  \n",
      "12022              0  \n",
      "12023              0  \n",
      "12024              0  \n",
      "12025              0  \n",
      "\n",
      "[12026 rows x 100 columns]\n",
      "\n",
      "Target:\n",
      "0        2\n",
      "1        2\n",
      "2        2\n",
      "3        1\n",
      "4        0\n",
      "        ..\n",
      "12021    2\n",
      "12022    2\n",
      "12023    2\n",
      "12024    0\n",
      "12025    2\n",
      "Name: FTR, Length: 12026, dtype: int64\n"
     ]
    }
   ],
   "source": [
    "from sklearn.model_selection import train_test_split\n",
    "from sklearn.linear_model import LogisticRegression\n",
    "\n",
    "features = df_copy.drop(['FTR', 'HomeGoals', 'AwayGoals'], axis=1)  # Exclude 'FTR', 'HomeGoals', and 'AwayGoals' columns\n",
    "target = df_copy['FTR']\n",
    "\n",
    "print(\"Features:\")\n",
    "print(features)\n",
    "print(\"\\nTarget:\")\n",
    "print(target)"
   ]
  },
  {
   "cell_type": "code",
   "execution_count": 53,
   "id": "ca5c5d1b",
   "metadata": {
    "scrolled": true
   },
   "outputs": [
    {
     "data": {
      "text/html": [
       "<div>\n",
       "<style scoped>\n",
       "    .dataframe tbody tr th:only-of-type {\n",
       "        vertical-align: middle;\n",
       "    }\n",
       "\n",
       "    .dataframe tbody tr th {\n",
       "        vertical-align: top;\n",
       "    }\n",
       "\n",
       "    .dataframe thead th {\n",
       "        text-align: right;\n",
       "    }\n",
       "</style>\n",
       "<table border=\"1\" class=\"dataframe\">\n",
       "  <thead>\n",
       "    <tr style=\"text-align: right;\">\n",
       "      <th></th>\n",
       "      <th>MiddlesbroughHome</th>\n",
       "      <th>MiddlesbroughAway</th>\n",
       "      <th>WimbledonHome</th>\n",
       "      <th>WimbledonAway</th>\n",
       "      <th>Manchester UtdHome</th>\n",
       "      <th>Manchester UtdAway</th>\n",
       "      <th>BlackburnHome</th>\n",
       "      <th>BlackburnAway</th>\n",
       "      <th>Norwich CityHome</th>\n",
       "      <th>Norwich CityAway</th>\n",
       "      <th>...</th>\n",
       "      <th>Cardiff CityHome</th>\n",
       "      <th>Cardiff CityAway</th>\n",
       "      <th>BournemouthHome</th>\n",
       "      <th>BournemouthAway</th>\n",
       "      <th>HuddersfieldHome</th>\n",
       "      <th>HuddersfieldAway</th>\n",
       "      <th>BrightonHome</th>\n",
       "      <th>BrightonAway</th>\n",
       "      <th>BrentfordHome</th>\n",
       "      <th>BrentfordAway</th>\n",
       "    </tr>\n",
       "  </thead>\n",
       "  <tbody>\n",
       "    <tr>\n",
       "      <th>0</th>\n",
       "      <td>0</td>\n",
       "      <td>1</td>\n",
       "      <td>0</td>\n",
       "      <td>0</td>\n",
       "      <td>0</td>\n",
       "      <td>0</td>\n",
       "      <td>0</td>\n",
       "      <td>0</td>\n",
       "      <td>0</td>\n",
       "      <td>0</td>\n",
       "      <td>...</td>\n",
       "      <td>0</td>\n",
       "      <td>0</td>\n",
       "      <td>0</td>\n",
       "      <td>0</td>\n",
       "      <td>0</td>\n",
       "      <td>0</td>\n",
       "      <td>0</td>\n",
       "      <td>0</td>\n",
       "      <td>0</td>\n",
       "      <td>0</td>\n",
       "    </tr>\n",
       "    <tr>\n",
       "      <th>1</th>\n",
       "      <td>0</td>\n",
       "      <td>0</td>\n",
       "      <td>0</td>\n",
       "      <td>1</td>\n",
       "      <td>0</td>\n",
       "      <td>0</td>\n",
       "      <td>0</td>\n",
       "      <td>0</td>\n",
       "      <td>0</td>\n",
       "      <td>0</td>\n",
       "      <td>...</td>\n",
       "      <td>0</td>\n",
       "      <td>0</td>\n",
       "      <td>0</td>\n",
       "      <td>0</td>\n",
       "      <td>0</td>\n",
       "      <td>0</td>\n",
       "      <td>0</td>\n",
       "      <td>0</td>\n",
       "      <td>0</td>\n",
       "      <td>0</td>\n",
       "    </tr>\n",
       "    <tr>\n",
       "      <th>2</th>\n",
       "      <td>0</td>\n",
       "      <td>0</td>\n",
       "      <td>0</td>\n",
       "      <td>0</td>\n",
       "      <td>0</td>\n",
       "      <td>1</td>\n",
       "      <td>0</td>\n",
       "      <td>0</td>\n",
       "      <td>0</td>\n",
       "      <td>0</td>\n",
       "      <td>...</td>\n",
       "      <td>0</td>\n",
       "      <td>0</td>\n",
       "      <td>0</td>\n",
       "      <td>0</td>\n",
       "      <td>0</td>\n",
       "      <td>0</td>\n",
       "      <td>0</td>\n",
       "      <td>0</td>\n",
       "      <td>0</td>\n",
       "      <td>0</td>\n",
       "    </tr>\n",
       "    <tr>\n",
       "      <th>3</th>\n",
       "      <td>0</td>\n",
       "      <td>0</td>\n",
       "      <td>0</td>\n",
       "      <td>0</td>\n",
       "      <td>0</td>\n",
       "      <td>0</td>\n",
       "      <td>0</td>\n",
       "      <td>1</td>\n",
       "      <td>0</td>\n",
       "      <td>0</td>\n",
       "      <td>...</td>\n",
       "      <td>0</td>\n",
       "      <td>0</td>\n",
       "      <td>0</td>\n",
       "      <td>0</td>\n",
       "      <td>0</td>\n",
       "      <td>0</td>\n",
       "      <td>0</td>\n",
       "      <td>0</td>\n",
       "      <td>0</td>\n",
       "      <td>0</td>\n",
       "    </tr>\n",
       "    <tr>\n",
       "      <th>4</th>\n",
       "      <td>0</td>\n",
       "      <td>0</td>\n",
       "      <td>0</td>\n",
       "      <td>0</td>\n",
       "      <td>0</td>\n",
       "      <td>0</td>\n",
       "      <td>0</td>\n",
       "      <td>0</td>\n",
       "      <td>0</td>\n",
       "      <td>1</td>\n",
       "      <td>...</td>\n",
       "      <td>0</td>\n",
       "      <td>0</td>\n",
       "      <td>0</td>\n",
       "      <td>0</td>\n",
       "      <td>0</td>\n",
       "      <td>0</td>\n",
       "      <td>0</td>\n",
       "      <td>0</td>\n",
       "      <td>0</td>\n",
       "      <td>0</td>\n",
       "    </tr>\n",
       "  </tbody>\n",
       "</table>\n",
       "<p>5 rows × 100 columns</p>\n",
       "</div>"
      ],
      "text/plain": [
       "   MiddlesbroughHome  MiddlesbroughAway  WimbledonHome  WimbledonAway  \\\n",
       "0                  0                  1              0              0   \n",
       "1                  0                  0              0              1   \n",
       "2                  0                  0              0              0   \n",
       "3                  0                  0              0              0   \n",
       "4                  0                  0              0              0   \n",
       "\n",
       "   Manchester UtdHome  Manchester UtdAway  BlackburnHome  BlackburnAway  \\\n",
       "0                   0                   0              0              0   \n",
       "1                   0                   0              0              0   \n",
       "2                   0                   1              0              0   \n",
       "3                   0                   0              0              1   \n",
       "4                   0                   0              0              0   \n",
       "\n",
       "   Norwich CityHome  Norwich CityAway  ...  Cardiff CityHome  \\\n",
       "0                 0                 0  ...                 0   \n",
       "1                 0                 0  ...                 0   \n",
       "2                 0                 0  ...                 0   \n",
       "3                 0                 0  ...                 0   \n",
       "4                 0                 1  ...                 0   \n",
       "\n",
       "   Cardiff CityAway  BournemouthHome  BournemouthAway  HuddersfieldHome  \\\n",
       "0                 0                0                0                 0   \n",
       "1                 0                0                0                 0   \n",
       "2                 0                0                0                 0   \n",
       "3                 0                0                0                 0   \n",
       "4                 0                0                0                 0   \n",
       "\n",
       "   HuddersfieldAway  BrightonHome  BrightonAway  BrentfordHome  BrentfordAway  \n",
       "0                 0             0             0              0              0  \n",
       "1                 0             0             0              0              0  \n",
       "2                 0             0             0              0              0  \n",
       "3                 0             0             0              0              0  \n",
       "4                 0             0             0              0              0  \n",
       "\n",
       "[5 rows x 100 columns]"
      ]
     },
     "execution_count": 53,
     "metadata": {},
     "output_type": "execute_result"
    }
   ],
   "source": [
    "features.head()"
   ]
  },
  {
   "cell_type": "code",
   "execution_count": 54,
   "id": "098c82db",
   "metadata": {},
   "outputs": [
    {
     "data": {
      "text/plain": [
       "0    2\n",
       "1    2\n",
       "2    2\n",
       "3    1\n",
       "4    0\n",
       "Name: FTR, dtype: int64"
      ]
     },
     "execution_count": 54,
     "metadata": {},
     "output_type": "execute_result"
    }
   ],
   "source": [
    "targets.head()"
   ]
  },
  {
   "cell_type": "code",
   "execution_count": 55,
   "id": "a3ce6fe1",
   "metadata": {},
   "outputs": [],
   "source": [
    "x_train, x_test, y_train, y_test = train_test_split(features, targets, stratify=targets, random_state=42, test_size=.2)"
   ]
  },
  {
   "cell_type": "code",
   "execution_count": 56,
   "id": "97d1cf53",
   "metadata": {},
   "outputs": [
    {
     "name": "stdout",
     "output_type": "stream",
     "text": [
      "Shape of training features: (9620, 100)\n",
      "Shape of testing features: (2406, 100)\n",
      "Shape of training target variable: (9620,)\n",
      "Shape of testing target variable: (2406,)\n"
     ]
    }
   ],
   "source": [
    "# Print the shapes of the training and testing sets\n",
    "print(\"Shape of training features:\", x_train.shape)\n",
    "print(\"Shape of testing features:\", x_test.shape)\n",
    "print(\"Shape of training target variable:\", y_train.shape)\n",
    "print(\"Shape of testing target variable:\", y_test.shape)"
   ]
  },
  {
   "cell_type": "code",
   "execution_count": 57,
   "id": "6ee77612",
   "metadata": {},
   "outputs": [
    {
     "data": {
      "text/plain": [
       "LogisticRegression(max_iter=1000)"
      ]
     },
     "execution_count": 57,
     "metadata": {},
     "output_type": "execute_result"
    }
   ],
   "source": [
    "lr_model = LogisticRegression(max_iter=1000)\n",
    "lr_model.fit(x_train, y_train)"
   ]
  },
  {
   "cell_type": "code",
   "execution_count": 58,
   "id": "644b7aca",
   "metadata": {},
   "outputs": [
    {
     "data": {
      "text/plain": [
       "FTR\n",
       "2    0.458922\n",
       "0    0.283552\n",
       "1    0.257525\n",
       "Name: proportion, dtype: float64"
      ]
     },
     "execution_count": 58,
     "metadata": {},
     "output_type": "execute_result"
    }
   ],
   "source": [
    "df_copy['FTR'].value_counts(normalize=True)"
   ]
  },
  {
   "cell_type": "code",
   "execution_count": 59,
   "id": "ca3cc8c6",
   "metadata": {},
   "outputs": [
    {
     "name": "stdout",
     "output_type": "stream",
     "text": [
      "0.5118503118503118\n",
      "0.5041562759767249\n"
     ]
    }
   ],
   "source": [
    "print(lr_model.score(x_train, y_train))\n",
    "print(lr_model.score(x_test, y_test))"
   ]
  },
  {
   "cell_type": "code",
   "execution_count": 60,
   "id": "4e691cde",
   "metadata": {},
   "outputs": [
    {
     "data": {
      "image/png": "[encoded data removed]",
      "text/plain": [
       "<Figure size 640x480 with 2 Axes>"
      ]
     },
     "metadata": {},
     "output_type": "display_data"
    }
   ],
   "source": [
    "from sklearn.metrics import confusion_matrix, ConfusionMatrixDisplay\n",
    "import matplotlib.pyplot as plt\n",
    "\n",
    "%matplotlib inline\n",
    "\n",
    "#gather the predictions for our test dataset\n",
    "predictions = lr_model.predict(x_test)\n",
    "\n",
    "# construct the confusion matix - this retrns an array\n",
    "cm = confusion_matrix(y_test, predictions, labels=lr_model.classes_)\n",
    "\n",
    "# format and display the confusion matrix\n",
    "disp = ConfusionMatrixDisplay(confusion_matrix=cm, display_labels=lr_model.classes_)\n",
    "disp.plot(cmap=plt.cm.Blues)\n",
    "plt.show()"
   ]
  },
  {
   "cell_type": "markdown",
   "id": "76ba2d72",
   "metadata": {},
   "source": [
    "## Asking for predictions"
   ]
  },
  {
   "cell_type": "code",
   "execution_count": 63,
   "id": "eab9cd18",
   "metadata": {},
   "outputs": [
    {
     "name": "stdout",
     "output_type": "stream",
     "text": [
      "Predicted Outcome (FTR): [2]\n"
     ]
    }
   ],
   "source": [
    "# Define the list of teams\n",
    "teams = ['Middlesbrough', 'Wimbledon', 'Manchester Utd', 'Blackburn', 'Norwich City',\n",
    "         'Aston Villa', 'Sheffield Weds', 'Tottenham', 'Oldham Athletic', 'Liverpool',\n",
    "         'QPR', 'Arsenal', 'Ipswich Town', 'Coventry City', 'Sheffield Utd',\n",
    "         'Leeds United', 'Crystal Palace', 'Manchester City', 'Chelsea', 'Southampton',\n",
    "         'Everton', \"Nott'ham Forest\", 'Swindon Town', 'West Ham', 'Newcastle Utd',\n",
    "         'Leicester City', 'Bolton', 'Derby County', 'Sunderland', 'Barnsley',\n",
    "         'Charlton Ath', 'Bradford City', 'Watford', 'Fulham', 'West Brom',\n",
    "         'Birmingham City', 'Wolves', 'Portsmouth', 'Wigan Athletic', 'Reading',\n",
    "         'Stoke City', 'Hull City', 'Burnley', 'Blackpool', 'Swansea City',\n",
    "         'Cardiff City', 'Bournemouth', 'Huddersfield', 'Brighton', 'Brentford']\n",
    "\n",
    "# Prepare the data for prediction\n",
    "match_data = {}\n",
    "\n",
    "# Iterate over each team and add columns for playing at home and away\n",
    "for team in teams:\n",
    "    match_data[f\"{team}Home\"] = [0]  # Team not playing at home\n",
    "    match_data[f\"{team}Away\"] = [0]  # Team not playing away\n",
    "\n",
    "# Set Arsenal playing at home and Manchester City playing away\n",
    "match_data['ArsenalHome'] = [1]\n",
    "match_data['Manchester CityAway'] = [1]\n",
    "\n",
    "# Create DataFrame for prediction\n",
    "match_df = pd.DataFrame(match_data)\n",
    "\n",
    "# Use the trained model to make a prediction\n",
    "predicted_outcome = lr_model.predict(match_df)\n",
    "\n",
    "# Print the predicted outcome\n",
    "print(\"Predicted Outcome (FTR):\", predicted_outcome)"
   ]
  },
  {
   "cell_type": "markdown",
   "id": "e6ba5ee8",
   "metadata": {},
   "source": [
    "### Actual Outcome: Arsenal 1 - 0 Manchester City. Correct."
   ]
  },
  {
   "cell_type": "code",
   "execution_count": 64,
   "id": "99f156e5",
   "metadata": {},
   "outputs": [
    {
     "name": "stdout",
     "output_type": "stream",
     "text": [
      "Predicted Outcome (FTR): [0]\n"
     ]
    }
   ],
   "source": [
    "# Define the list of teams\n",
    "teams = ['Middlesbrough', 'Wimbledon', 'Manchester Utd', 'Blackburn', 'Norwich City',\n",
    "         'Aston Villa', 'Sheffield Weds', 'Tottenham', 'Oldham Athletic', 'Liverpool',\n",
    "         'QPR', 'Arsenal', 'Ipswich Town', 'Coventry City', 'Sheffield Utd',\n",
    "         'Leeds United', 'Crystal Palace', 'Manchester City', 'Chelsea', 'Southampton',\n",
    "         'Everton', \"Nott'ham Forest\", 'Swindon Town', 'West Ham', 'Newcastle Utd',\n",
    "         'Leicester City', 'Bolton', 'Derby County', 'Sunderland', 'Barnsley',\n",
    "         'Charlton Ath', 'Bradford City', 'Watford', 'Fulham', 'West Brom',\n",
    "         'Birmingham City', 'Wolves', 'Portsmouth', 'Wigan Athletic', 'Reading',\n",
    "         'Stoke City', 'Hull City', 'Burnley', 'Blackpool', 'Swansea City',\n",
    "         'Cardiff City', 'Bournemouth', 'Huddersfield', 'Brighton', 'Brentford']\n",
    "\n",
    "# Prepare the data for prediction\n",
    "match_data = {}\n",
    "\n",
    "# Iterate over each team and add columns for playing at home and away\n",
    "for team in teams:\n",
    "    match_data[f\"{team}Home\"] = [0]  # Team not playing at home\n",
    "    match_data[f\"{team}Away\"] = [0]  # Team not playing away\n",
    "\n",
    "# Set Everton playing at home and Liverpool playing away\n",
    "match_data['EvertonHome'] = [1]\n",
    "match_data['LiverpoolAway'] = [1]\n",
    "\n",
    "# Create DataFrame for prediction\n",
    "match_df = pd.DataFrame(match_data)\n",
    "\n",
    "# Use the trained model to make a prediction\n",
    "predicted_outcome = lr_model.predict(match_df)\n",
    "\n",
    "# Print the predicted outcome\n",
    "print(\"Predicted Outcome (FTR):\", predicted_outcome)"
   ]
  },
  {
   "cell_type": "markdown",
   "id": "57b11ef9",
   "metadata": {},
   "source": [
    "## Actual outcome: Everton 2 - 0 Liverpool. Against all odds, Everton was 7x multiplier before the game on sportsbooks. Liverpool was 1.4x. Wrong, but fair prediciton. Odds from Bet365."
   ]
  },
  {
   "cell_type": "code",
   "execution_count": 65,
   "id": "600299fb",
   "metadata": {},
   "outputs": [
    {
     "name": "stdout",
     "output_type": "stream",
     "text": [
      "Predicted Outcome (FTR): [2]\n"
     ]
    }
   ],
   "source": [
    "# Define the list of teams\n",
    "teams = ['Middlesbrough', 'Wimbledon', 'Manchester Utd', 'Blackburn', 'Norwich City',\n",
    "         'Aston Villa', 'Sheffield Weds', 'Tottenham', 'Oldham Athletic', 'Liverpool',\n",
    "         'QPR', 'Arsenal', 'Ipswich Town', 'Coventry City', 'Sheffield Utd',\n",
    "         'Leeds United', 'Crystal Palace', 'Manchester City', 'Chelsea', 'Southampton',\n",
    "         'Everton', \"Nott'ham Forest\", 'Swindon Town', 'West Ham', 'Newcastle Utd',\n",
    "         'Leicester City', 'Bolton', 'Derby County', 'Sunderland', 'Barnsley',\n",
    "         'Charlton Ath', 'Bradford City', 'Watford', 'Fulham', 'West Brom',\n",
    "         'Birmingham City', 'Wolves', 'Portsmouth', 'Wigan Athletic', 'Reading',\n",
    "         'Stoke City', 'Hull City', 'Burnley', 'Blackpool', 'Swansea City',\n",
    "         'Cardiff City', 'Bournemouth', 'Huddersfield', 'Brighton', 'Brentford']\n",
    "\n",
    "# Prepare the data for prediction\n",
    "match_data = {}\n",
    "\n",
    "# Iterate over each team and add columns for playing at home and away\n",
    "for team in teams:\n",
    "    match_data[f\"{team}Home\"] = [0]  # Team not playing at home\n",
    "    match_data[f\"{team}Away\"] = [0]  # Team not playing away\n",
    "\n",
    "# Set Arsenal playing at home and Manchester City playing away\n",
    "match_data['WolvesHome'] = [1]\n",
    "match_data['BournemouthAway'] = [1]\n",
    "\n",
    "# Create DataFrame for prediction\n",
    "match_df = pd.DataFrame(match_data)\n",
    "\n",
    "# Use the trained model to make a prediction\n",
    "predicted_outcome = lr_model.predict(match_df)\n",
    "\n",
    "# Print the predicted outcome\n",
    "print(\"Predicted Outcome (FTR):\", predicted_outcome)"
   ]
  },
  {
   "cell_type": "markdown",
   "id": "ca3a58a2",
   "metadata": {},
   "source": [
    "## Actual Outcome: Wolves 0 - 1 Bournemouth. Wrong but another upset according to Bet365. "
   ]
  },
  {
   "cell_type": "code",
   "execution_count": 66,
   "id": "d0ec02dc",
   "metadata": {},
   "outputs": [
    {
     "name": "stdout",
     "output_type": "stream",
     "text": [
      "Predicted Outcome (FTR): [2]\n"
     ]
    }
   ],
   "source": [
    "# Define the list of teams\n",
    "teams = ['Middlesbrough', 'Wimbledon', 'Manchester Utd', 'Blackburn', 'Norwich City',\n",
    "         'Aston Villa', 'Sheffield Weds', 'Tottenham', 'Oldham Athletic', 'Liverpool',\n",
    "         'QPR', 'Arsenal', 'Ipswich Town', 'Coventry City', 'Sheffield Utd',\n",
    "         'Leeds United', 'Crystal Palace', 'Manchester City', 'Chelsea', 'Southampton',\n",
    "         'Everton', \"Nott'ham Forest\", 'Swindon Town', 'West Ham', 'Newcastle Utd',\n",
    "         'Leicester City', 'Bolton', 'Derby County', 'Sunderland', 'Barnsley',\n",
    "         'Charlton Ath', 'Bradford City', 'Watford', 'Fulham', 'West Brom',\n",
    "         'Birmingham City', 'Wolves', 'Portsmouth', 'Wigan Athletic', 'Reading',\n",
    "         'Stoke City', 'Hull City', 'Burnley', 'Blackpool', 'Swansea City',\n",
    "         'Cardiff City', 'Bournemouth', 'Huddersfield', 'Brighton', 'Brentford']\n",
    "\n",
    "# Prepare the data for prediction\n",
    "match_data = {}\n",
    "\n",
    "# Iterate over each team and add columns for playing at home and away\n",
    "for team in teams:\n",
    "    match_data[f\"{team}Home\"] = [0]  # Team not playing at home\n",
    "    match_data[f\"{team}Away\"] = [0]  # Team not playing away\n",
    "\n",
    "# Set Arsenal playing at home and Manchester City playing away\n",
    "match_data['ArsenalHome'] = [1]\n",
    "match_data['ChelseaAway'] = [1]\n",
    "\n",
    "# Create DataFrame for prediction\n",
    "match_df = pd.DataFrame(match_data)\n",
    "\n",
    "# Use the trained model to make a prediction\n",
    "predicted_outcome = lr_model.predict(match_df)\n",
    "\n",
    "# Print the predicted outcome\n",
    "print(\"Predicted Outcome (FTR):\", predicted_outcome)"
   ]
  },
  {
   "cell_type": "markdown",
   "id": "8fcfb654",
   "metadata": {},
   "source": [
    "#### Actual outcome: Arsenal 5 - 0 Chelsea. Correct prediction."
   ]
  },
  {
   "cell_type": "markdown",
   "id": "f479bdfe",
   "metadata": {},
   "source": [
    "# Want to make a different prediction?\n",
    "\n",
    "### If you want to make a different prediction, lets say for Fulham vs Crystal Palace, just replace where it says 'ArsenalHome' with 'FulhamHome' and 'ChelseaAway' would be replaced with 'Crystal PalaceAway'. Just make sure that you type out the team name just as it is typed out in the list of teams at the top of the code"
   ]
  },
  {
   "cell_type": "code",
   "execution_count": null,
   "id": "417fa510",
   "metadata": {},
   "outputs": [],
   "source": [
    "# Define the list of teams\n",
    "teams = ['Middlesbrough', 'Wimbledon', 'Manchester Utd', 'Blackburn', 'Norwich City',\n",
    "         'Aston Villa', 'Sheffield Weds', 'Tottenham', 'Oldham Athletic', 'Liverpool',\n",
    "         'QPR', 'Arsenal', 'Ipswich Town', 'Coventry City', 'Sheffield Utd',\n",
    "         'Leeds United', 'Crystal Palace', 'Manchester City', 'Chelsea', 'Southampton',\n",
    "         'Everton', \"Nott'ham Forest\", 'Swindon Town', 'West Ham', 'Newcastle Utd',\n",
    "         'Leicester City', 'Bolton', 'Derby County', 'Sunderland', 'Barnsley',\n",
    "         'Charlton Ath', 'Bradford City', 'Watford', 'Fulham', 'West Brom',\n",
    "         'Birmingham City', 'Wolves', 'Portsmouth', 'Wigan Athletic', 'Reading',\n",
    "         'Stoke City', 'Hull City', 'Burnley', 'Blackpool', 'Swansea City',\n",
    "         'Cardiff City', 'Bournemouth', 'Huddersfield', 'Brighton', 'Brentford']\n",
    "\n",
    "# Prepare the data for prediction\n",
    "match_data = {}\n",
    "\n",
    "# Iterate over each team and add columns for playing at home and away\n",
    "for team in teams:\n",
    "    match_data[f\"{team}Home\"] = [0]  # Team not playing at home\n",
    "    match_data[f\"{team}Away\"] = [0]  # Team not playing away\n",
    "\n",
    "# Set Arsenal playing at home and Manchester City playing away\n",
    "match_data['ArsenalHome'] = [1]\n",
    "match_data['ChelseaAway'] = [1]\n",
    "\n",
    "# Create DataFrame for prediction\n",
    "match_df = pd.DataFrame(match_data)\n",
    "\n",
    "# Use the trained model to make a prediction\n",
    "predicted_outcome = lr_model.predict(match_df)\n",
    "\n",
    "# Print the predicted outcome\n",
    "print(\"Predicted Outcome (FTR):\", predicted_outcome)"
   ]
  }
 ],
 "metadata": {
  "kernelspec": {
   "display_name": "Python 3 (ipykernel)",
   "language": "python",
   "name": "python3"
  },
  "language_info": {
   "codemirror_mode": {
    "name": "ipython",
    "version": 3
   },
   "file_extension": ".py",
   "mimetype": "text/x-python",
   "name": "python",
   "nbconvert_exporter": "python",
   "pygments_lexer": "ipython3",
   "version": "3.9.13"
  }
 },
 "nbformat": 4,
 "nbformat_minor": 5
}
